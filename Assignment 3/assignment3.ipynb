{
 "cells": [
  {
   "cell_type": "markdown",
   "metadata": {},
   "source": [
    "Hier worden de benodigde libraries geimporteerd. Het is niet toegestaan om andere libraries, zoals tensorflow of keras, te gebruiken. "
   ]
  },
  {
   "cell_type": "code",
   "execution_count": 1,
   "metadata": {
    "ExecuteTime": {
     "start_time": "2023-04-09T20:32:42.929139Z",
     "end_time": "2023-04-09T20:32:44.259774Z"
    }
   },
   "outputs": [],
   "source": [
    "import numpy as np\n",
    "import pandas as pd\n",
    "from matplotlib import pyplot as plt"
   ]
  },
  {
   "cell_type": "markdown",
   "metadata": {},
   "source": [
    "hier volgen een aantal functies die je zelf moet schrijven. \n",
    "Uitleg over wat je moet schrijven vind je met commentaar "
   ]
  },
  {
   "cell_type": "code",
   "execution_count": 2,
   "metadata": {
    "ExecuteTime": {
     "start_time": "2023-04-09T20:32:44.262772Z",
     "end_time": "2023-04-09T20:32:44.265786Z"
    }
   },
   "outputs": [],
   "source": [
    "def leesspiraal(filename):\n",
    "    dataframe = pd.read_csv(filename)\n",
    "    return dataframe\n",
    "    # code"
   ]
  },
  {
   "cell_type": "code",
   "execution_count": 3,
   "metadata": {
    "ExecuteTime": {
     "start_time": "2023-04-09T20:32:44.267770Z",
     "end_time": "2023-04-09T20:32:44.270788Z"
    }
   },
   "outputs": [],
   "source": [
    "def berekenaccuracy(correct, fout):\n",
    "    accuracy = correct / (correct + fout)\n",
    "    return accuracy\n",
    "    # code"
   ]
  },
  {
   "cell_type": "code",
   "execution_count": 4,
   "outputs": [],
   "source": [
    "def normaliseerspiraldataset(df):\n",
    "    df[\"x\"] = df[\"x\"] - np.min(df[\"x\"])\n",
    "    df[\"y\"] = df[\"y\"] - np.min(df[\"y\"])\n",
    "    df[\"x\"] = df[\"x\"] / (np.max(df[\"x\"]) - np.min(df[\"x\"]))\n",
    "    df[\"y\"] = df[\"y\"] / (np.max(df[\"y\"]) - np.min(df[\"y\"]))\n",
    "    return df\n",
    "    #code"
   ],
   "metadata": {
    "collapsed": false,
    "ExecuteTime": {
     "start_time": "2023-04-09T20:32:44.272795Z",
     "end_time": "2023-04-09T20:32:44.277232Z"
    }
   }
  },
  {
   "cell_type": "code",
   "execution_count": 5,
   "metadata": {
    "ExecuteTime": {
     "start_time": "2023-04-09T20:32:44.280233Z",
     "end_time": "2023-04-09T20:32:44.292755Z"
    }
   },
   "outputs": [],
   "source": [
    "def getX(spiral):\n",
    "    return spiral[\"x\"]\n",
    "    # code"
   ]
  },
  {
   "cell_type": "code",
   "execution_count": 6,
   "metadata": {
    "ExecuteTime": {
     "start_time": "2023-04-09T20:32:44.283756Z",
     "end_time": "2023-04-09T20:32:44.292755Z"
    }
   },
   "outputs": [],
   "source": [
    "def getY(spiral):\n",
    "    return spiral[\"y\"]\n",
    "    # code"
   ]
  },
  {
   "cell_type": "code",
   "execution_count": 7,
   "metadata": {
    "ExecuteTime": {
     "start_time": "2023-04-09T20:32:44.290755Z",
     "end_time": "2023-04-09T20:32:44.302848Z"
    }
   },
   "outputs": [],
   "source": [
    "def getLabels(spiral):\n",
    "    return spiral[\"label\"]\n",
    "    # code"
   ]
  },
  {
   "cell_type": "code",
   "execution_count": 8,
   "metadata": {
    "ExecuteTime": {
     "start_time": "2023-04-09T20:32:44.296852Z",
     "end_time": "2023-04-09T20:32:44.302848Z"
    }
   },
   "outputs": [],
   "source": [
    "def traintestsplit(df):\n",
    "    train = df.iloc[:800].reset_index(drop=True)\n",
    "    test = df.iloc[800:].reset_index(drop=True)\n",
    "    return train, test"
   ]
  },
  {
   "cell_type": "code",
   "execution_count": 9,
   "metadata": {
    "ExecuteTime": {
     "start_time": "2023-04-09T20:32:44.302848Z",
     "end_time": "2023-04-09T20:32:44.306026Z"
    }
   },
   "outputs": [],
   "source": [
    "def plotspiraldataset(x,y,labels):\n",
    "    neg = np.where(labels==0)[0]\n",
    "    pos = np.where(labels==1)[0]\n",
    "    plt.scatter(x[neg],y[neg])\n",
    "    plt.scatter(x[pos],y[pos])\n",
    "    #plt.savefig('my_spiral.png')\n",
    "    plt.show()"
   ]
  },
  {
   "cell_type": "markdown",
   "metadata": {},
   "source": [
    "Hier begint de code van de Multi-Layer Perceptron (MLP). Dit zijn twee functies. De eerste traint het model. De tweede evalueert het model op de testset. "
   ]
  },
  {
   "cell_type": "code",
   "execution_count": 10,
   "metadata": {
    "ExecuteTime": {
     "start_time": "2023-04-09T20:32:44.307535Z",
     "end_time": "2023-04-09T20:32:44.334603Z"
    }
   },
   "outputs": [],
   "source": [
    "def trainMLP(x, y, labels, epochs, lr, aantalneurons):\n",
    "    #lr is de learning rate\n",
    "    \n",
    "    # W1,W2 zijn de weegfactoren\n",
    "    # B1, B2 zijn de bias termen\n",
    "    W1 = np.random.rand(aantalneurons,2)\n",
    "    W2 = np.random.rand(2,aantalneurons)\n",
    "    B1 = np.random.rand(aantalneurons,1)\n",
    "    B2 = np.random.rand(2,1)\n",
    "    \n",
    "    print(W1.shape)\n",
    "    print(W2.shape)\n",
    "    print(B1.shape)\n",
    "    print(B2.shape)\n",
    "    \n",
    "    # epoch is het aantal keer dat de gehele dataset wordt \n",
    "    # gebruikt voor training\n",
    "    for k in range(epochs):\n",
    "        correct = 0\n",
    "        fout = 0\n",
    "    \n",
    "        for ind in range(len(x)):\n",
    "        \n",
    "            # de input data wordt in het juiste formaat gestopt\n",
    "            X0 = np.transpose(np.matrix([x[ind], y[ind]]))\n",
    "            label = labels[ind]\n",
    "            lab= np.transpose(np.matrix([label,1-label]))\n",
    "            \n",
    "            #print(X0.shape)\n",
    "        \n",
    "            # dit is de gewogen som + ReLU activatie functie\n",
    "            X1 = np.maximum(0,np.matmul(W1, X0)+B1)\n",
    "            X2 = np.maximum(0,np.matmul(W2, X1)+B2)\n",
    "\n",
    "            # Dit is de softmax activatie functie\n",
    "            out = np.exp(X2)/np.sum(np.exp(X2))\n",
    "    \n",
    "            # hier worden de voorspellingen gedaan\n",
    "            prediction = float(out[0])>0.5\n",
    "            if lab[0]==prediction:\n",
    "                correct = correct+1\n",
    "            else:\n",
    "                fout = fout+1\n",
    "    \n",
    "            # backpropagation\n",
    "            error = np.subtract(out,lab)\n",
    "\n",
    "            d2 = np.multiply(error,np.minimum(1,np.maximum(0,X2)))\n",
    "            dW2 = np.matmul(d2,np.transpose(X1))\n",
    "            dB2 = d2\n",
    "\n",
    "            d1 = np.multiply(np.matmul(np.transpose(W2),d2),np.minimum(1,np.maximum(0,X1)))\n",
    "            dW1 = np.matmul(d1,np.transpose(X0))\n",
    "            dB1 = d1\n",
    "\n",
    "            #update rule\n",
    "            W1 = W1-lr*dW1\n",
    "            W2 = W2-lr*dW2\n",
    "            B1 = B1-lr*dB1\n",
    "            B2 = B2-lr*dB2\n",
    "    \n",
    "        print('epoch_'+str(k)+\"\\t\"+str(correct)+\"\\t\"+str(fout))\n",
    "        \n",
    "    resultaat = np.array([W1,W2,B1,B2],dtype=object)\n",
    "    return resultaat"
   ]
  },
  {
   "cell_type": "code",
   "execution_count": 11,
   "metadata": {
    "ExecuteTime": {
     "start_time": "2023-04-09T20:32:44.322057Z",
     "end_time": "2023-04-09T20:32:44.334603Z"
    }
   },
   "outputs": [],
   "source": [
    "def testMLP(x, y, labels, res):\n",
    "    correct = 0\n",
    "    fout = 0\n",
    "    \n",
    "    # W1,W2 zijn de weegfactoren\n",
    "    # B1, B2 zijn de bias termen\n",
    "    W1 = res[0]\n",
    "    W2 = res[1]\n",
    "    B1 = res[2]\n",
    "    B2 = res[3]\n",
    "\n",
    "    for ind in range(len(x)):\n",
    "        # de input data wordt in het juiste formaat gestopt\n",
    "        X0 = np.transpose(np.matrix([x[ind],y[ind]]))\n",
    "        label = labels[ind]\n",
    "        \n",
    "        # dit is de gewogen som + ReLU activatie functie\n",
    "        X1 = np.maximum(0,np.matmul(W1, X0)+B1)\n",
    "        X2 = np.maximum(0,np.matmul(W2, X1)+B2)\n",
    "\n",
    "        # dit is de softmax activatie functie\n",
    "        out = np.exp(X2)/np.sum(np.exp(X2))\n",
    "    \n",
    "        # hier vindt de classificatie plaats\n",
    "        prediction = float(out[0])>0.5\n",
    "        \n",
    "        if label==prediction:\n",
    "            correct = correct+1\n",
    "        else:\n",
    "            fout = fout+1\n",
    "            \n",
    "    return correct,fout"
   ]
  },
  {
   "cell_type": "markdown",
   "metadata": {},
   "source": [
    "### Hier begint de -main- die alle functies aanroept"
   ]
  },
  {
   "cell_type": "code",
   "execution_count": 12,
   "outputs": [
    {
     "data": {
      "text/plain": "<Figure size 640x480 with 1 Axes>",
      "image/png": "[encoded data removed]"
     },
     "metadata": {},
     "output_type": "display_data"
    },
    {
     "name": "stdout",
     "output_type": "stream",
     "text": [
      "(8, 2)\n",
      "(2, 8)\n",
      "(8, 1)\n",
      "(2, 1)\n",
      "epoch_0\t530\t270\n",
      "epoch_1\t572\t228\n",
      "epoch_2\t568\t232\n",
      "epoch_3\t569\t231\n",
      "epoch_4\t568\t232\n",
      "epoch_5\t568\t232\n",
      "epoch_6\t570\t230\n",
      "epoch_7\t570\t230\n",
      "epoch_8\t569\t231\n",
      "epoch_9\t569\t231\n",
      "epoch_10\t570\t230\n",
      "epoch_11\t572\t228\n",
      "epoch_12\t572\t228\n",
      "epoch_13\t571\t229\n",
      "epoch_14\t571\t229\n",
      "epoch_15\t572\t228\n",
      "epoch_16\t572\t228\n",
      "epoch_17\t570\t230\n",
      "epoch_18\t570\t230\n",
      "epoch_19\t570\t230\n",
      "epoch_20\t570\t230\n",
      "epoch_21\t567\t233\n",
      "epoch_22\t567\t233\n",
      "epoch_23\t567\t233\n",
      "epoch_24\t569\t231\n",
      "epoch_25\t569\t231\n",
      "epoch_26\t569\t231\n",
      "epoch_27\t570\t230\n",
      "epoch_28\t571\t229\n",
      "epoch_29\t571\t229\n",
      "epoch_30\t570\t230\n",
      "epoch_31\t571\t229\n",
      "epoch_32\t572\t228\n",
      "epoch_33\t572\t228\n",
      "epoch_34\t573\t227\n",
      "epoch_35\t573\t227\n",
      "epoch_36\t572\t228\n",
      "epoch_37\t574\t226\n",
      "epoch_38\t576\t224\n",
      "epoch_39\t578\t222\n",
      "epoch_40\t579\t221\n",
      "epoch_41\t580\t220\n",
      "epoch_42\t580\t220\n",
      "epoch_43\t583\t217\n",
      "epoch_44\t583\t217\n",
      "epoch_45\t583\t217\n",
      "epoch_46\t583\t217\n",
      "epoch_47\t585\t215\n",
      "epoch_48\t587\t213\n",
      "epoch_49\t589\t211\n",
      "epoch_50\t590\t210\n",
      "epoch_51\t593\t207\n",
      "epoch_52\t593\t207\n",
      "epoch_53\t597\t203\n",
      "epoch_54\t601\t199\n",
      "epoch_55\t608\t192\n",
      "epoch_56\t618\t182\n",
      "epoch_57\t636\t164\n",
      "epoch_58\t652\t148\n",
      "epoch_59\t672\t128\n",
      "epoch_60\t679\t121\n",
      "epoch_61\t693\t107\n",
      "epoch_62\t701\t99\n",
      "epoch_63\t717\t83\n",
      "epoch_64\t717\t83\n",
      "epoch_65\t723\t77\n",
      "epoch_66\t726\t74\n",
      "epoch_67\t729\t71\n",
      "epoch_68\t733\t67\n",
      "epoch_69\t734\t66\n",
      "epoch_70\t733\t67\n",
      "epoch_71\t731\t69\n",
      "epoch_72\t733\t67\n",
      "epoch_73\t736\t64\n",
      "epoch_74\t739\t61\n",
      "epoch_75\t741\t59\n",
      "epoch_76\t741\t59\n",
      "epoch_77\t740\t60\n",
      "epoch_78\t740\t60\n",
      "epoch_79\t740\t60\n",
      "epoch_80\t740\t60\n",
      "epoch_81\t742\t58\n",
      "epoch_82\t743\t57\n",
      "epoch_83\t744\t56\n",
      "epoch_84\t743\t57\n",
      "epoch_85\t743\t57\n",
      "epoch_86\t745\t55\n",
      "epoch_87\t746\t54\n",
      "epoch_88\t748\t52\n",
      "epoch_89\t747\t53\n",
      "epoch_90\t748\t52\n",
      "epoch_91\t749\t51\n",
      "epoch_92\t749\t51\n",
      "epoch_93\t749\t51\n",
      "epoch_94\t749\t51\n",
      "epoch_95\t749\t51\n",
      "epoch_96\t749\t51\n",
      "epoch_97\t749\t51\n",
      "epoch_98\t750\t50\n",
      "epoch_99\t750\t50\n",
      "0.96\n"
     ]
    }
   ],
   "source": [
    "if __name__ == \"__main__\":\n",
    "\n",
    "    epochs = 100\n",
    "    lr = 0.03\n",
    "    aantalneurons = 8\n",
    "\n",
    "    df = leesspiraal('spiral.csv')\n",
    "\n",
    "    df = normaliseerspiraldataset(df)\n",
    "\n",
    "    train, test = traintestsplit(df)\n",
    "\n",
    "    x_train = getX(train)\n",
    "    y_train = getY(train)\n",
    "    labels_train = getLabels(train)\n",
    "\n",
    "    plotspiraldataset(x_train,y_train,labels_train)\n",
    "\n",
    "    res = trainMLP(x_train, y_train, labels_train, epochs, lr, aantalneurons)\n",
    "\n",
    "    x_test = getX(test)\n",
    "    y_test = getY(test)\n",
    "    labels_test = getLabels(test)\n",
    "\n",
    "    correct, fout = testMLP(x_test, y_test, labels_test, res)\n",
    "\n",
    "    accuracy = berekenaccuracy(correct, fout)\n",
    "\n",
    "    print(accuracy)\n",
    "\n",
    "    np.save('W1.npy', res[0])\n",
    "    np.save('W2.npy', res[1])\n",
    "    np.save('B1.npy', res[2])\n",
    "    np.save('B2.npy', res[3])"
   ],
   "metadata": {
    "collapsed": false,
    "ExecuteTime": {
     "start_time": "2023-04-09T20:32:44.330057Z",
     "end_time": "2023-04-09T20:32:53.581311Z"
    }
   }
  },
  {
   "cell_type": "code",
   "execution_count": 12,
   "outputs": [],
   "source": [],
   "metadata": {
    "collapsed": false,
    "ExecuteTime": {
     "start_time": "2023-04-09T20:32:53.582879Z",
     "end_time": "2023-04-09T20:32:53.583852Z"
    }
   }
  }
 ],
 "metadata": {
  "kernelspec": {
   "display_name": "Python 3",
   "language": "python",
   "name": "python3"
  },
  "language_info": {
   "codemirror_mode": {
    "name": "ipython",
    "version": 3
   },
   "file_extension": ".py",
   "mimetype": "text/x-python",
   "name": "python",
   "nbconvert_exporter": "python",
   "pygments_lexer": "ipython3",
   "version": "3.7.5"
  }
 },
 "nbformat": 4,
 "nbformat_minor": 2
}

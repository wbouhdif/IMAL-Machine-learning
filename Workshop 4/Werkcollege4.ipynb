{
 "cells": [
  {
   "cell_type": "markdown",
   "id": "1f3b5871",
   "metadata": {},
   "source": [
    "| <font color='red'>Belangrijk!</font> |\n",
    "|:---|\n",
    "|Lees voor het maken de inleverinstructies door in de toetsbeschrijving (MS Teams, kanaal algemeen, Files, Moduledocumentatie).  Het niet opvolgen van deze instructies kan leiden tot een onvoldoende |\n",
    "\n",
    "# Classificatie\n",
    "Dit werkcollege gaat over classificatie. We hebben gegevens die we in classes willen indelen. Dit kunnen allerlei type klassen zijn. In ons geval gaan we voorspellen of het morgen in Leiden (of eigenlijk Schiphol) gaat regenen. \n",
    "\n",
    "De gegevens komen van het KNMI:  https://daggegevens.knmi.nl/klimatologie/daggegevens. Ik heb Schiphol (station 240) gepakt omdat daar gegevens van de laatste 20 jaar beschikbaar waren. \n",
    "Vervolgens heb ik de dataset in excel bewerkt:\n",
    "- De datum is opgesplitst in losse kolommen met YYYY, MM en DD. \n",
    "- Op basis van de datum is er een kolom met het meteorologische seizoenen toegevoegd (niet te verwarren met astronomische seizoenen). \n",
    "- De lege cellen (waar spaties instonden) vervangen met 'NaN' zodat deze in pandas worden opgepikt als NaN waarde. \n",
    "- Op basis van de hoeveelheid regen de dag erna is er 1 kolomm toegvoegd:\n",
    "  - RM: Regen morgen, gebaseerd op de totale neerslag van de dag erna (kolom RH):\n",
    "    - Als RH == 0 \"False\"\n",
    "    - Als RH <> 0 \"True\"\n",
    "\n",
    "Totale dataset:\n",
    "\n",
    "    FG        : Etmaalgemiddelde windsnelheid (in 0.1 m/s) / Daily mean windspeed (in 0.1 m/s)\n",
    "    TG        : Etmaalgemiddelde temperatuur (in 0.1 graden Celsius) / Daily mean temperature in (0.1 degrees Celsius)\n",
    "    TN        : Minimum temperatuur (in 0.1 graden Celsius) / Minimum temperature (in 0.1 degrees Celsius)\n",
    "    TX        : Maximum temperatuur (in 0.1 graden Celsius) / Maximum temperature (in 0.1 degrees Celsius)\n",
    "    SP        : Percentage van de langst mogelijke zonneschijnduur / Percentage of maximum potential sunshine duration\n",
    "    RH        : Etmaalsom van de neerslag (in 0.1 mm) (-1 voor <0.05 mm) / Daily precipitation amount (in 0.1 mm) (-1 for <0.05 mm)\n",
    "    PG        : Etmaalgemiddelde luchtdruk herleid tot zeeniveau (in 0.1 hPa) berekend uit 24 uurwaarden / Daily mean sea level pressure (in 0.1 hPa) calculated from 24 hourly values\n",
    "    NG        : Etmaalgemiddelde bewolking (bedekkingsgraad van de bovenlucht in achtsten; 9=bovenlucht onzichtbaar) / Mean daily cloud cover (in octants; 9=sky invisible)\n",
    "    UG        : Etmaalgemiddelde relatieve vochtigheid (in procenten) / Daily mean relative atmospheric humidity (in percents)\n",
    "    RM        : Regen morgen, of de dag erna regen meer dan 0mm regen is gevallen"
   ]
  },
  {
   "cell_type": "code",
   "execution_count": 1,
   "id": "7865a174",
   "metadata": {
    "ExecuteTime": {
     "start_time": "2023-04-11T22:24:30.331429Z",
     "end_time": "2023-04-11T22:24:30.656400Z"
    }
   },
   "outputs": [],
   "source": [
    "import pandas as pd\n",
    "import numpy as np\n",
    "import seaborn as sns\n",
    "import matplotlib.pyplot as plt\n",
    "\n",
    "from sklearn.model_selection import train_test_split\n",
    "from sklearn.preprocessing import StandardScaler\n",
    "\n",
    "from sklearn.svm import SVC\n",
    "from sklearn.naive_bayes import GaussianNB\n",
    "from sklearn.neighbors import KNeighborsClassifier\n",
    "\n",
    "from sklearn import metrics\n",
    "from sklearn.metrics import roc_curve\n",
    "from sklearn.metrics import roc_auc_score\n",
    "\n",
    "from sklearn.model_selection import GridSearchCV\n",
    "from sklearn.model_selection import KFold\n",
    "from sklearn.model_selection import cross_val_predict\n",
    "from sklearn.model_selection import cross_val_score"
   ]
  },
  {
   "cell_type": "markdown",
   "id": "445dff8f",
   "metadata": {},
   "source": [
    "# Data inlezen en voorbereiden\n",
    "Schrijf de code om de file in te lezen:"
   ]
  },
  {
   "cell_type": "code",
   "execution_count": 2,
   "id": "be47c0b5",
   "metadata": {
    "ExecuteTime": {
     "start_time": "2023-04-11T22:24:30.660606Z",
     "end_time": "2023-04-11T22:24:30.673077Z"
    }
   },
   "outputs": [],
   "source": [
    "pad_naar_file = \"knmi_schiphol.csv\""
   ]
  },
  {
   "cell_type": "code",
   "execution_count": 3,
   "id": "649e710f",
   "metadata": {
    "ExecuteTime": {
     "start_time": "2023-04-11T22:24:30.673077Z",
     "end_time": "2023-04-11T22:24:30.722373Z"
    }
   },
   "outputs": [],
   "source": [
    "def read_data(csv_file):\n",
    "    \n",
    "    dataframe = pd.read_csv(csv_file, sep=';')\n",
    "    return dataframe\n",
    "\n",
    "df = read_data(pad_naar_file);"
   ]
  },
  {
   "cell_type": "markdown",
   "id": "e7a60ce3",
   "metadata": {},
   "source": [
    "Als je het goed gedaan hebt, is df nu een DataFrame met 7306 rijen en 16 kolommen:"
   ]
  },
  {
   "cell_type": "code",
   "execution_count": 4,
   "id": "380e7117",
   "metadata": {
    "ExecuteTime": {
     "start_time": "2023-04-11T22:24:30.705339Z",
     "end_time": "2023-04-11T22:24:30.722373Z"
    }
   },
   "outputs": [
    {
     "data": {
      "text/plain": "(7306, 16)"
     },
     "execution_count": 4,
     "metadata": {},
     "output_type": "execute_result"
    }
   ],
   "source": [
    "df.shape"
   ]
  },
  {
   "cell_type": "markdown",
   "id": "f9330d24",
   "metadata": {},
   "source": [
    "Als jouw dataframe slechts 1 kolom heeft:\n",
    " - open dan de 'knmi_schiphol.csv' in notepad of notepad++ \n",
    " - kijk eens naar de separator die gebruikt is \n",
    " - Ga naar de documentatie van Pandas read_csv (just google it) en check wat je moet veranderen in jouw code"
   ]
  },
  {
   "cell_type": "markdown",
   "id": "eacbe778",
   "metadata": {},
   "source": [
    "## sneak peak data\n",
    "Dit hebben we nu zovaak gedaan, dat ik je onderstaande code gratis geef. Zo kun je tijdens het werkcollege focussen op de nieuwe stof. "
   ]
  },
  {
   "cell_type": "code",
   "execution_count": 5,
   "id": "efead802",
   "metadata": {
    "ExecuteTime": {
     "start_time": "2023-04-11T22:24:30.722373Z",
     "end_time": "2023-04-11T22:24:30.831358Z"
    }
   },
   "outputs": [
    {
     "name": "stdout",
     "output_type": "stream",
     "text": [
      "<class 'pandas.core.frame.DataFrame'>\n",
      "RangeIndex: 7306 entries, 0 to 7305\n",
      "Data columns (total 16 columns):\n",
      " #   Column    Non-Null Count  Dtype  \n",
      "---  ------    --------------  -----  \n",
      " 0   FG        7306 non-null   int64  \n",
      " 1   TG        7306 non-null   int64  \n",
      " 2   TN        7306 non-null   int64  \n",
      " 3   TX        7306 non-null   int64  \n",
      " 4   SQ        7306 non-null   int64  \n",
      " 5   SP        7306 non-null   int64  \n",
      " 6   RH        7306 non-null   int64  \n",
      " 7   PG        7306 non-null   int64  \n",
      " 8   NG        7301 non-null   float64\n",
      " 9   UG        7306 non-null   int64  \n",
      " 10  YYYYMMDD  7306 non-null   int64  \n",
      " 11  YYYY      7306 non-null   int64  \n",
      " 12  MM        7306 non-null   int64  \n",
      " 13  DD        7306 non-null   int64  \n",
      " 14  MS        7306 non-null   object \n",
      " 15  RM        7306 non-null   bool   \n",
      "dtypes: bool(1), float64(1), int64(13), object(1)\n",
      "memory usage: 863.4+ KB\n"
     ]
    }
   ],
   "source": [
    "df.info()"
   ]
  },
  {
   "cell_type": "code",
   "execution_count": 6,
   "id": "998e8b61",
   "metadata": {
    "ExecuteTime": {
     "start_time": "2023-04-11T22:24:30.755563Z",
     "end_time": "2023-04-11T22:24:30.847528Z"
    }
   },
   "outputs": [
    {
     "data": {
      "text/plain": "    FG  TG  TN   TX  SQ  SP  RH     PG   NG  UG  YYYYMMDD  YYYY  MM  DD  \\\n0   45  54   1   88  86  78  -1  10182  5.0  84  20020303  2002   3   3   \n1   44  81  71   97  16  15   0  10184  7.0  84  20020304  2002   3   4   \n2   40  74  61  101  37  33   0  10131  7.0  83  20020305  2002   3   5   \n3   98  84  62  104   0   0  17  10041  7.0  89  20020306  2002   3   6   \n4  108  94  69  109  83  74   1  10134  3.0  74  20020307  2002   3   7   \n\n      MS     RM  \n0  LENTE  False  \n1  LENTE  False  \n2  LENTE   True  \n3  LENTE   True  \n4  LENTE  False  ",
      "text/html": "<div>\n<style scoped>\n    .dataframe tbody tr th:only-of-type {\n        vertical-align: middle;\n    }\n\n    .dataframe tbody tr th {\n        vertical-align: top;\n    }\n\n    .dataframe thead th {\n        text-align: right;\n    }\n</style>\n<table border=\"1\" class=\"dataframe\">\n  <thead>\n    <tr style=\"text-align: right;\">\n      <th></th>\n      <th>FG</th>\n      <th>TG</th>\n      <th>TN</th>\n      <th>TX</th>\n      <th>SQ</th>\n      <th>SP</th>\n      <th>RH</th>\n      <th>PG</th>\n      <th>NG</th>\n      <th>UG</th>\n      <th>YYYYMMDD</th>\n      <th>YYYY</th>\n      <th>MM</th>\n      <th>DD</th>\n      <th>MS</th>\n      <th>RM</th>\n    </tr>\n  </thead>\n  <tbody>\n    <tr>\n      <th>0</th>\n      <td>45</td>\n      <td>54</td>\n      <td>1</td>\n      <td>88</td>\n      <td>86</td>\n      <td>78</td>\n      <td>-1</td>\n      <td>10182</td>\n      <td>5.0</td>\n      <td>84</td>\n      <td>20020303</td>\n      <td>2002</td>\n      <td>3</td>\n      <td>3</td>\n      <td>LENTE</td>\n      <td>False</td>\n    </tr>\n    <tr>\n      <th>1</th>\n      <td>44</td>\n      <td>81</td>\n      <td>71</td>\n      <td>97</td>\n      <td>16</td>\n      <td>15</td>\n      <td>0</td>\n      <td>10184</td>\n      <td>7.0</td>\n      <td>84</td>\n      <td>20020304</td>\n      <td>2002</td>\n      <td>3</td>\n      <td>4</td>\n      <td>LENTE</td>\n      <td>False</td>\n    </tr>\n    <tr>\n      <th>2</th>\n      <td>40</td>\n      <td>74</td>\n      <td>61</td>\n      <td>101</td>\n      <td>37</td>\n      <td>33</td>\n      <td>0</td>\n      <td>10131</td>\n      <td>7.0</td>\n      <td>83</td>\n      <td>20020305</td>\n      <td>2002</td>\n      <td>3</td>\n      <td>5</td>\n      <td>LENTE</td>\n      <td>True</td>\n    </tr>\n    <tr>\n      <th>3</th>\n      <td>98</td>\n      <td>84</td>\n      <td>62</td>\n      <td>104</td>\n      <td>0</td>\n      <td>0</td>\n      <td>17</td>\n      <td>10041</td>\n      <td>7.0</td>\n      <td>89</td>\n      <td>20020306</td>\n      <td>2002</td>\n      <td>3</td>\n      <td>6</td>\n      <td>LENTE</td>\n      <td>True</td>\n    </tr>\n    <tr>\n      <th>4</th>\n      <td>108</td>\n      <td>94</td>\n      <td>69</td>\n      <td>109</td>\n      <td>83</td>\n      <td>74</td>\n      <td>1</td>\n      <td>10134</td>\n      <td>3.0</td>\n      <td>74</td>\n      <td>20020307</td>\n      <td>2002</td>\n      <td>3</td>\n      <td>7</td>\n      <td>LENTE</td>\n      <td>False</td>\n    </tr>\n  </tbody>\n</table>\n</div>"
     },
     "execution_count": 6,
     "metadata": {},
     "output_type": "execute_result"
    }
   ],
   "source": [
    "df.head(5)"
   ]
  },
  {
   "cell_type": "code",
   "execution_count": 7,
   "id": "276c2e28",
   "metadata": {
    "ExecuteTime": {
     "start_time": "2023-04-11T22:24:30.772411Z",
     "end_time": "2023-04-11T22:24:30.847528Z"
    }
   },
   "outputs": [
    {
     "name": "stdout",
     "output_type": "stream",
     "text": [
      "[ 5.  7.  3.  6.  4.  8.  2.  1.  0. nan]\n",
      "['LENTE' 'ZOMER' 'HERFST' 'WINTER']\n"
     ]
    },
    {
     "data": {
      "text/plain": "FG          0\nTG          0\nTN          0\nTX          0\nSQ          0\nSP          0\nRH          0\nPG          0\nNG          5\nUG          0\nYYYYMMDD    0\nYYYY        0\nMM          0\nDD          0\nMS          0\nRM          0\ndtype: int64"
     },
     "execution_count": 7,
     "metadata": {},
     "output_type": "execute_result"
    }
   ],
   "source": [
    "print(df['NG'].unique())\n",
    "print(df['MS'].unique())\n",
    "df.isnull().sum(axis = 0) "
   ]
  },
  {
   "cell_type": "markdown",
   "id": "48f73bda",
   "metadata": {},
   "source": [
    "Checkt of er genoeg samples van de klassen van onze afhankelijke variabele zijn. Zo niet, dan moeten we andere maatregelen nemen. In dit geval zijn de klassen voldoende gelijk verdeeld. "
   ]
  },
  {
   "cell_type": "code",
   "execution_count": 8,
   "id": "080beeca",
   "metadata": {
    "ExecuteTime": {
     "start_time": "2023-04-11T22:24:30.789289Z",
     "end_time": "2023-04-11T22:24:31.090351Z"
    }
   },
   "outputs": [
    {
     "data": {
      "text/plain": "<seaborn.axisgrid.FacetGrid at 0x1fde02cb070>"
     },
     "execution_count": 8,
     "metadata": {},
     "output_type": "execute_result"
    },
    {
     "data": {
      "text/plain": "<Figure size 500x500 with 1 Axes>",
      "image/png": "[encoded data removed]"
     },
     "metadata": {},
     "output_type": "display_data"
    }
   ],
   "source": [
    "sns.catplot(x='RM', data=df,kind='count')    "
   ]
  },
  {
   "cell_type": "markdown",
   "id": "1e4eaabc",
   "metadata": {},
   "source": [
    "## data voorbereiden\n",
    "Hier verwijder je de NaN en zet de categorienamen om naar nummers:"
   ]
  },
  {
   "cell_type": "code",
   "execution_count": 9,
   "id": "b5771163",
   "metadata": {
    "ExecuteTime": {
     "start_time": "2023-04-11T22:24:31.022529Z",
     "end_time": "2023-04-11T22:24:31.090351Z"
    }
   },
   "outputs": [],
   "source": [
    "def data_voorbereiden(dataframe):\n",
    "    #Vervang de seizoenen voor nummers\n",
    "    set_ms = {'LENTE':0,'ZOMER':1, 'HERFST':2, 'WINTER':3}\n",
    "    dataframe['MS'] = dataframe['MS'].map(set_ms)\n",
    "\n",
    "    #omdat deze kolom alleen True False bevat\n",
    "    dataframe['RM'] = dataframe['RM'].astype(int)\n",
    "\n",
    "    return dataframe"
   ]
  },
  {
   "cell_type": "code",
   "execution_count": 10,
   "id": "e85b6cae",
   "metadata": {
    "ExecuteTime": {
     "start_time": "2023-04-11T22:24:31.031522Z",
     "end_time": "2023-04-11T22:24:31.090351Z"
    }
   },
   "outputs": [],
   "source": [
    "def verwijder_NaN(dataframe):\n",
    "\n",
    "    dataframe['NG'].fillna(dataframe['NG'].mode()[0], inplace=True)\n",
    "\n",
    "    return dataframe"
   ]
  },
  {
   "cell_type": "code",
   "execution_count": 11,
   "id": "a39a6662",
   "metadata": {
    "ExecuteTime": {
     "start_time": "2023-04-11T22:24:31.044519Z",
     "end_time": "2023-04-11T22:24:31.090351Z"
    }
   },
   "outputs": [],
   "source": [
    "df = data_voorbereiden(df)\n",
    "df = verwijder_NaN(df)"
   ]
  },
  {
   "cell_type": "markdown",
   "id": "82f2ff5a",
   "metadata": {},
   "source": [
    "#### sample data samplen\n",
    "Als je een pairpliot maakt, heb je misschien gemerkt dat het langzaam gaat. Dat komt omdat seaborn __elk__ punt intekent. Door een sample te nemen van tussen de 500 en 1000 rijen, heb je al een representatief beeld van de verdeling van de data èn gaat het plotten een stuk sneller. In onderstaande code neem ik een sample met het commando ```df.sample(500)```: "
   ]
  },
  {
   "cell_type": "code",
   "execution_count": 12,
   "id": "c944f75a",
   "metadata": {
    "ExecuteTime": {
     "start_time": "2023-04-11T22:24:31.063157Z",
     "end_time": "2023-04-11T22:24:53.338585Z"
    }
   },
   "outputs": [],
   "source": [
    "sns.pairplot(df.sample(500), height=2.5);"
   ]
  },
  {
   "cell_type": "markdown",
   "id": "9256ed53",
   "metadata": {},
   "source": [
    "Ik maak nu een matplotlib subplot object aan, waar ik de heatmap inzet. Op deze manier schaal ik de heatmap naar 20 bij 15 (experimenteer met de getallen om het effect te zien), zodat het een beetje beter leesbaar is:"
   ]
  },
  {
   "cell_type": "code",
   "execution_count": 13,
   "id": "723a82fe",
   "metadata": {
    "ExecuteTime": {
     "start_time": "2023-04-11T22:24:53.343753Z",
     "end_time": "2023-04-11T22:24:53.496261Z"
    }
   },
   "outputs": [
    {
     "data": {
      "text/plain": "<AxesSubplot:>"
     },
     "execution_count": 13,
     "metadata": {},
     "output_type": "execute_result"
    }
   ],
   "source": [
    "plt.subplots(figsize=(20,15))\n",
    "sns.heatmap(df.corr(), annot = True, vmin=-1, vmax=1, center= 0, cmap= 'coolwarm')"
   ]
  },
  {
   "cell_type": "markdown",
   "id": "dc53054a",
   "metadata": {},
   "source": [
    "Op basis van bovenstaand plot verwijder ik:\n",
    "\n",
    " - __TN__ en __TX__, die zijn gecorreleerd aan TG. Ik hou liever 1 dan 2 kolommen over\n",
    " - __SP__ en __SQ__, die zijn gecorreleerd aan NG. Om 3 redenenen:\n",
    "    - Ik hou liever 1 dan 2 kolommen over\n",
    "    - je hebt eerder bewolking (NG) voor regen nodig dan zon (SP, SQ)\n",
    "    - Er is een hogere correlatie tussen NG en RM vergeleken met de (negatieve) correlatie tussen SP & SQ en RM \n",
    "    \n",
    " - __YYYYMMDD__ dit is de row identifier. Dus die mag ook weg. \n",
    " "
   ]
  },
  {
   "cell_type": "markdown",
   "id": "48e2da77",
   "metadata": {},
   "source": [
    "### <font color='red'>Vraag</font> \n",
    "Wat vind je van het niet verwijderen van YYYY en DD? Zou jij die laten staan of niet?"
   ]
  },
  {
   "cell_type": "markdown",
   "id": "1db76ccb",
   "metadata": {},
   "source": [
    "Het voegt niet veel toe. Ik zou hem niet laten staan"
   ]
  },
  {
   "cell_type": "code",
   "execution_count": 14,
   "id": "ddd02082",
   "metadata": {
    "ExecuteTime": {
     "start_time": "2023-04-11T22:24:53.496261Z",
     "end_time": "2023-04-11T22:24:53.559318Z"
    }
   },
   "outputs": [],
   "source": [
    "def verwijder_kolommen(dataframe):\n",
    "    dataframe.drop('TX', inplace=True, axis=1)\n",
    "    dataframe.drop('TN', inplace=True, axis=1)\n",
    "    dataframe.drop('SP', inplace=True, axis=1)\n",
    "    dataframe.drop('SQ', inplace=True, axis=1)\n",
    "    dataframe.drop('YYYYMMDD', inplace=True, axis=1)\n",
    "\n",
    "    return dataframe"
   ]
  },
  {
   "cell_type": "code",
   "execution_count": 15,
   "id": "6256d780",
   "metadata": {
    "ExecuteTime": {
     "start_time": "2023-04-11T22:24:53.512386Z",
     "end_time": "2023-04-11T22:24:53.590555Z"
    }
   },
   "outputs": [],
   "source": [
    "df = verwijder_kolommen(df)"
   ]
  },
  {
   "cell_type": "code",
   "execution_count": 16,
   "id": "408d49e1",
   "metadata": {
    "ExecuteTime": {
     "start_time": "2023-04-11T22:24:53.528055Z",
     "end_time": "2023-04-11T22:24:53.692369Z"
    }
   },
   "outputs": [
    {
     "data": {
      "text/plain": "<AxesSubplot:>"
     },
     "execution_count": 16,
     "metadata": {},
     "output_type": "execute_result"
    }
   ],
   "source": [
    "plt.subplots(figsize=(20,15))\n",
    "sns.heatmap(df.corr(), annot = True, vmin=-1, vmax=1, center= 0, cmap= 'coolwarm')"
   ]
  },
  {
   "cell_type": "markdown",
   "id": "22be239f",
   "metadata": {},
   "source": [
    "## Data splitsen en schalen\n",
    "Laten we onze data splitsen in onafhankelijke variabelen X en afhankelijke variabele y. \n",
    "Onze afhankelijke variabele is Regen Morgen (RM). De uitkomst is binair: \n",
    "\n",
    " 0. Nee, het is morgen droog\n",
    " 1. Ja, het regent morgen"
   ]
  },
  {
   "cell_type": "code",
   "execution_count": 17,
   "id": "cdbe46ce",
   "metadata": {
    "ExecuteTime": {
     "start_time": "2023-04-11T22:24:53.676230Z",
     "end_time": "2023-04-11T22:24:53.704889Z"
    }
   },
   "outputs": [],
   "source": [
    "y = df['RM']\n",
    "X = df.drop(['RM'],axis=1)"
   ]
  },
  {
   "cell_type": "markdown",
   "id": "ea2984bf",
   "metadata": {},
   "source": [
    "Daarna gaan we X en y splitsen in trainingset en testset:"
   ]
  },
  {
   "cell_type": "code",
   "execution_count": 18,
   "id": "6d844cec",
   "metadata": {
    "ExecuteTime": {
     "start_time": "2023-04-11T22:24:53.692369Z",
     "end_time": "2023-04-11T22:24:53.708909Z"
    }
   },
   "outputs": [],
   "source": [
    "split_test_size = 0.30\n",
    "\n",
    "X_train, X_test, y_train, y_test = train_test_split(X, y, test_size=split_test_size, random_state=42)  "
   ]
  },
  {
   "cell_type": "markdown",
   "id": "1934da99",
   "metadata": {},
   "source": [
    "## Feature Scaling\n",
    "We gaan nu onze data schalen. Dit doen we op onze _Trainingsset_. Namelijk onze testset representateert onze onbekende data. Als we deze testset meenemen in de schaling, dan lekken we informatie van onze trainingsdata in de testdata en wordt ons model onbruikbaar. \n",
    "\n",
    "Wat we dus doen is het volgende:\n",
    "\n",
    " - ```scaler = StandardScaler()``` we maken ons model aan\n",
    " - ```trainingsdata = scaler.fit_transform(trainingsdata)```  we fitten onze scalar op de trainingsdata en die transformeren we naar een verdeling met gemiddelde = 0 en standaard deviate is 1. \n",
    " - ```testdata = scaler.transform(testdata)``` nu gaan we onze testdata transformeren op de scalar die gefit is op de trainingsdata. \n",
    " \n",
    " \n",
    "Zoals je ziet, schalen we de afhankelijke variabele niet. Dit komt omdat de uitkomst al tussen de 0 en 1 ligt, of in ieder geval klein genoeg is (er zijn maar een maximaal aantal klassen waarmee we werken). \n",
    "\n",
    "Voor regressie hebben we niet geschaald, normaal schalen we dat wel voor de features and the target tussen Min Max : https://stats.stackexchange.com/questions/111467/is-it-necessary-to-scale-the-target-value-in-addition-to-scaling-features-for-re https://stats.stackexchange.com/questions/111467/is-it-necessary-to-scale-the-target-value-in-addition-to-scaling-features-for-re\n",
    "\n",
    "standaard scaler versus Min-Max scaler.."
   ]
  },
  {
   "cell_type": "markdown",
   "id": "b97aa318",
   "metadata": {},
   "source": [
    "Vul nu zelf het scaler object."
   ]
  },
  {
   "cell_type": "code",
   "execution_count": 19,
   "id": "fb7e74a6",
   "metadata": {
    "ExecuteTime": {
     "start_time": "2023-04-11T22:24:53.708909Z",
     "end_time": "2023-04-11T22:24:53.802702Z"
    }
   },
   "outputs": [
    {
     "name": "stdout",
     "output_type": "stream",
     "text": [
      "['FG', 'TG', 'RH', 'PG', 'NG', 'UG', 'YYYY', 'MM', 'DD', 'MS']\n"
     ]
    }
   ],
   "source": [
    "scaler = StandardScaler()\n",
    "trainingsdata = scaler.fit_transform(X_train)\n",
    "testdata = scaler.transform(X_test)\n",
    "col_names= list(X.columns)\n",
    "print(col_names)"
   ]
  },
  {
   "cell_type": "markdown",
   "id": "be41a48e",
   "metadata": {},
   "source": [
    "Schaal nu zelf de data en vergeet niet om de dataset weer om te zetten naar een pandas dataframe (zie werkcollege2)"
   ]
  },
  {
   "cell_type": "code",
   "execution_count": 20,
   "id": "550917aa",
   "metadata": {
    "ExecuteTime": {
     "start_time": "2023-04-11T22:24:53.724960Z",
     "end_time": "2023-04-11T22:24:53.818454Z"
    }
   },
   "outputs": [],
   "source": [
    "#schrijf hier jouw code\n",
    "new_df = pd.DataFrame(scaler.transform(X), columns=col_names)"
   ]
  },
  {
   "cell_type": "markdown",
   "id": "6bc3c553",
   "metadata": {},
   "source": [
    "check of het gelukt is:"
   ]
  },
  {
   "cell_type": "code",
   "execution_count": 21,
   "id": "abaac72a",
   "metadata": {
    "ExecuteTime": {
     "start_time": "2023-04-11T22:24:53.740198Z",
     "end_time": "2023-04-11T22:24:53.818454Z"
    }
   },
   "outputs": [
    {
     "data": {
      "text/plain": "                FG           TG           RH            PG           NG  \\\ncount  5114.000000  5114.000000  5114.000000   5114.000000  5114.000000   \nmean     49.062769   109.768088    22.731521  10152.988072     5.466758   \nstd      21.844269    60.476071    46.990647     97.319749     2.332638   \nmin       9.000000   -77.000000    -1.000000   9729.000000     0.000000   \n25%      33.000000    66.000000     0.000000  10095.000000     4.000000   \n50%      45.000000   110.000000     1.000000  10159.000000     6.000000   \n75%      61.000000   159.000000    25.000000  10217.000000     7.000000   \nmax     154.000000   295.000000   605.000000  10449.000000     8.000000   \n\n                UG         YYYY           MM           DD           MS  \ncount  5114.000000  5114.000000  5114.000000  5114.000000  5114.000000  \nmean     80.142941  2011.695542     6.493743    15.721744     1.472038  \nstd       9.669590     5.736249     3.422533     8.849029     1.116743  \nmin      33.000000  2002.000000     1.000000     1.000000     0.000000  \n25%      74.000000  2007.000000     4.000000     8.000000     0.000000  \n50%      81.000000  2012.000000     7.000000    16.000000     1.000000  \n75%      87.000000  2017.000000     9.000000    23.000000     2.000000  \nmax     100.000000  2022.000000    12.000000    31.000000     3.000000  ",
      "text/html": "<div>\n<style scoped>\n    .dataframe tbody tr th:only-of-type {\n        vertical-align: middle;\n    }\n\n    .dataframe tbody tr th {\n        vertical-align: top;\n    }\n\n    .dataframe thead th {\n        text-align: right;\n    }\n</style>\n<table border=\"1\" class=\"dataframe\">\n  <thead>\n    <tr style=\"text-align: right;\">\n      <th></th>\n      <th>FG</th>\n      <th>TG</th>\n      <th>RH</th>\n      <th>PG</th>\n      <th>NG</th>\n      <th>UG</th>\n      <th>YYYY</th>\n      <th>MM</th>\n      <th>DD</th>\n      <th>MS</th>\n    </tr>\n  </thead>\n  <tbody>\n    <tr>\n      <th>count</th>\n      <td>5114.000000</td>\n      <td>5114.000000</td>\n      <td>5114.000000</td>\n      <td>5114.000000</td>\n      <td>5114.000000</td>\n      <td>5114.000000</td>\n      <td>5114.000000</td>\n      <td>5114.000000</td>\n      <td>5114.000000</td>\n      <td>5114.000000</td>\n    </tr>\n    <tr>\n      <th>mean</th>\n      <td>49.062769</td>\n      <td>109.768088</td>\n      <td>22.731521</td>\n      <td>10152.988072</td>\n      <td>5.466758</td>\n      <td>80.142941</td>\n      <td>2011.695542</td>\n      <td>6.493743</td>\n      <td>15.721744</td>\n      <td>1.472038</td>\n    </tr>\n    <tr>\n      <th>std</th>\n      <td>21.844269</td>\n      <td>60.476071</td>\n      <td>46.990647</td>\n      <td>97.319749</td>\n      <td>2.332638</td>\n      <td>9.669590</td>\n      <td>5.736249</td>\n      <td>3.422533</td>\n      <td>8.849029</td>\n      <td>1.116743</td>\n    </tr>\n    <tr>\n      <th>min</th>\n      <td>9.000000</td>\n      <td>-77.000000</td>\n      <td>-1.000000</td>\n      <td>9729.000000</td>\n      <td>0.000000</td>\n      <td>33.000000</td>\n      <td>2002.000000</td>\n      <td>1.000000</td>\n      <td>1.000000</td>\n      <td>0.000000</td>\n    </tr>\n    <tr>\n      <th>25%</th>\n      <td>33.000000</td>\n      <td>66.000000</td>\n      <td>0.000000</td>\n      <td>10095.000000</td>\n      <td>4.000000</td>\n      <td>74.000000</td>\n      <td>2007.000000</td>\n      <td>4.000000</td>\n      <td>8.000000</td>\n      <td>0.000000</td>\n    </tr>\n    <tr>\n      <th>50%</th>\n      <td>45.000000</td>\n      <td>110.000000</td>\n      <td>1.000000</td>\n      <td>10159.000000</td>\n      <td>6.000000</td>\n      <td>81.000000</td>\n      <td>2012.000000</td>\n      <td>7.000000</td>\n      <td>16.000000</td>\n      <td>1.000000</td>\n    </tr>\n    <tr>\n      <th>75%</th>\n      <td>61.000000</td>\n      <td>159.000000</td>\n      <td>25.000000</td>\n      <td>10217.000000</td>\n      <td>7.000000</td>\n      <td>87.000000</td>\n      <td>2017.000000</td>\n      <td>9.000000</td>\n      <td>23.000000</td>\n      <td>2.000000</td>\n    </tr>\n    <tr>\n      <th>max</th>\n      <td>154.000000</td>\n      <td>295.000000</td>\n      <td>605.000000</td>\n      <td>10449.000000</td>\n      <td>8.000000</td>\n      <td>100.000000</td>\n      <td>2022.000000</td>\n      <td>12.000000</td>\n      <td>31.000000</td>\n      <td>3.000000</td>\n    </tr>\n  </tbody>\n</table>\n</div>"
     },
     "execution_count": 21,
     "metadata": {},
     "output_type": "execute_result"
    }
   ],
   "source": [
    "X_train.describe()"
   ]
  },
  {
   "cell_type": "code",
   "execution_count": 22,
   "id": "861a55ba",
   "metadata": {
    "ExecuteTime": {
     "start_time": "2023-04-11T22:24:53.787271Z",
     "end_time": "2023-04-11T22:24:53.834456Z"
    }
   },
   "outputs": [
    {
     "data": {
      "text/plain": "                FG           TG           RH            PG           NG  \\\ncount  2192.000000  2192.000000  2192.000000   2192.000000  2192.000000   \nmean     48.545164   107.558850    22.648723  10152.526004     5.520073   \nstd      21.370966    61.330376    49.412364    100.419727     2.301659   \nmin      10.000000  -115.000000    -1.000000   9770.000000     0.000000   \n25%      33.000000    62.000000     0.000000  10094.000000     4.000000   \n50%      45.000000   107.000000     1.000000  10158.000000     6.000000   \n75%      60.000000   156.000000    25.000000  10218.000000     7.000000   \nmax     150.000000   267.000000   672.000000  10464.000000     8.000000   \n\n                UG         YYYY           MM           DD          MS  \ncount  2192.000000  2192.000000  2192.000000  2192.000000  2192.00000  \nmean     80.520073  2011.606296     6.589416    15.742245     1.53604  \nstd       9.712224     5.880106     3.509684     8.691092     1.11730  \nmin      40.000000  2002.000000     1.000000     1.000000     0.00000  \n25%      74.000000  2006.000000     4.000000     8.000000     1.00000  \n50%      82.000000  2012.000000     7.000000    16.000000     2.00000  \n75%      88.000000  2017.000000    10.000000    23.000000     3.00000  \nmax      99.000000  2022.000000    12.000000    31.000000     3.00000  ",
      "text/html": "<div>\n<style scoped>\n    .dataframe tbody tr th:only-of-type {\n        vertical-align: middle;\n    }\n\n    .dataframe tbody tr th {\n        vertical-align: top;\n    }\n\n    .dataframe thead th {\n        text-align: right;\n    }\n</style>\n<table border=\"1\" class=\"dataframe\">\n  <thead>\n    <tr style=\"text-align: right;\">\n      <th></th>\n      <th>FG</th>\n      <th>TG</th>\n      <th>RH</th>\n      <th>PG</th>\n      <th>NG</th>\n      <th>UG</th>\n      <th>YYYY</th>\n      <th>MM</th>\n      <th>DD</th>\n      <th>MS</th>\n    </tr>\n  </thead>\n  <tbody>\n    <tr>\n      <th>count</th>\n      <td>2192.000000</td>\n      <td>2192.000000</td>\n      <td>2192.000000</td>\n      <td>2192.000000</td>\n      <td>2192.000000</td>\n      <td>2192.000000</td>\n      <td>2192.000000</td>\n      <td>2192.000000</td>\n      <td>2192.000000</td>\n      <td>2192.00000</td>\n    </tr>\n    <tr>\n      <th>mean</th>\n      <td>48.545164</td>\n      <td>107.558850</td>\n      <td>22.648723</td>\n      <td>10152.526004</td>\n      <td>5.520073</td>\n      <td>80.520073</td>\n      <td>2011.606296</td>\n      <td>6.589416</td>\n      <td>15.742245</td>\n      <td>1.53604</td>\n    </tr>\n    <tr>\n      <th>std</th>\n      <td>21.370966</td>\n      <td>61.330376</td>\n      <td>49.412364</td>\n      <td>100.419727</td>\n      <td>2.301659</td>\n      <td>9.712224</td>\n      <td>5.880106</td>\n      <td>3.509684</td>\n      <td>8.691092</td>\n      <td>1.11730</td>\n    </tr>\n    <tr>\n      <th>min</th>\n      <td>10.000000</td>\n      <td>-115.000000</td>\n      <td>-1.000000</td>\n      <td>9770.000000</td>\n      <td>0.000000</td>\n      <td>40.000000</td>\n      <td>2002.000000</td>\n      <td>1.000000</td>\n      <td>1.000000</td>\n      <td>0.00000</td>\n    </tr>\n    <tr>\n      <th>25%</th>\n      <td>33.000000</td>\n      <td>62.000000</td>\n      <td>0.000000</td>\n      <td>10094.000000</td>\n      <td>4.000000</td>\n      <td>74.000000</td>\n      <td>2006.000000</td>\n      <td>4.000000</td>\n      <td>8.000000</td>\n      <td>1.00000</td>\n    </tr>\n    <tr>\n      <th>50%</th>\n      <td>45.000000</td>\n      <td>107.000000</td>\n      <td>1.000000</td>\n      <td>10158.000000</td>\n      <td>6.000000</td>\n      <td>82.000000</td>\n      <td>2012.000000</td>\n      <td>7.000000</td>\n      <td>16.000000</td>\n      <td>2.00000</td>\n    </tr>\n    <tr>\n      <th>75%</th>\n      <td>60.000000</td>\n      <td>156.000000</td>\n      <td>25.000000</td>\n      <td>10218.000000</td>\n      <td>7.000000</td>\n      <td>88.000000</td>\n      <td>2017.000000</td>\n      <td>10.000000</td>\n      <td>23.000000</td>\n      <td>3.00000</td>\n    </tr>\n    <tr>\n      <th>max</th>\n      <td>150.000000</td>\n      <td>267.000000</td>\n      <td>672.000000</td>\n      <td>10464.000000</td>\n      <td>8.000000</td>\n      <td>99.000000</td>\n      <td>2022.000000</td>\n      <td>12.000000</td>\n      <td>31.000000</td>\n      <td>3.00000</td>\n    </tr>\n  </tbody>\n</table>\n</div>"
     },
     "execution_count": 22,
     "metadata": {},
     "output_type": "execute_result"
    }
   ],
   "source": [
    "X_test.describe()"
   ]
  },
  {
   "cell_type": "markdown",
   "id": "da214e27",
   "metadata": {},
   "source": [
    "Zoals je ziet heeft de X_train een gemiddelde van 0 en een standaard deviatie van 1. Maar de X_test wijkt daar meer vanaf. Dit komt door de natuurlijke variatie in de dataset. Als dit heel erg afwijkt, heb je misschien een andere verdeling van je train en testdata nodig. Of je zult extra aandacht aan cross-validatie moeten besteden (zie verderop in dit notebook)"
   ]
  },
  {
   "cell_type": "markdown",
   "id": "50abd554",
   "metadata": {},
   "source": [
    "## Geheugen opruimen\n",
    "We verwijderen nu onze originele dataset ```df``` en de voorbereidde dataset ```X``` en ```y```. We doen dit om intern geheugen voor ons notebook te sparen. We hebben die namelijk verder nog hard nodig. Als blijkt dat je geheugen nog steeds niet voldoende leeg is, kun je ervoor kiezen om de plots, zoals sns.heatmap en sns.pairpot in het commentaar te zetten. Die grafische elementen kunnen de boel vertragen:"
   ]
  },
  {
   "cell_type": "code",
   "execution_count": 23,
   "id": "afd7ee84",
   "metadata": {
    "ExecuteTime": {
     "start_time": "2023-04-11T22:24:53.818454Z",
     "end_time": "2023-04-11T22:24:53.881682Z"
    }
   },
   "outputs": [],
   "source": [
    "del X\n",
    "del y\n",
    "del df"
   ]
  },
  {
   "cell_type": "markdown",
   "id": "5f7df872",
   "metadata": {},
   "source": [
    "ps. let op dat je natuurlijk niet de gevraagde variabelen deleted. Want die gebruiken we om jouw werk na te kijken :)\n"
   ]
  },
  {
   "cell_type": "markdown",
   "id": "8ff5eb04",
   "metadata": {},
   "source": [
    "# Classificatie \n",
    "We gaan nu een classificatie doen, we gaan de weerparameters indelen in 2 klassen. \n",
    "De ene klasse bevat de weerparameters waarbij het de volgende dag gaat regenen: RM == 1\n",
    "De andere klasse bevat de weerparameters waarbij het droog blijft: RM == 0\n"
   ]
  },
  {
   "cell_type": "markdown",
   "id": "0e9e2341",
   "metadata": {},
   "source": [
    "\n",
    "## Naive Bayes\n",
    "De eerste classifier is de Naieve Bayes classifier, die heb je al in actie gezien in werkcollege 1. Je ziet dat deze ook weer volgens hetzelfde stramien werkt:\n",
    "\n",
    "    model = maakClassiferObject()\n",
    "    model = model.fit(X_train, y_train)\n",
    "    resultaat_training = model.predict(X_train)\n",
    "    accuracy = accuracy_score(y_train, resultaat_training)\n",
    "    resultaat_test = model.predict(X_train)\n",
    "    accuracy = accuracy_score(y_train, resultaat_test)\n",
    "    \n",
    "Vervolgens een handmatige check of the accuracy van de training en test niet te veel afwijkt en acceptabel zijn. "
   ]
  },
  {
   "cell_type": "code",
   "execution_count": 24,
   "id": "d690cfd4",
   "metadata": {
    "ExecuteTime": {
     "start_time": "2023-04-11T22:24:53.834456Z",
     "end_time": "2023-04-11T22:24:53.881682Z"
    }
   },
   "outputs": [
    {
     "data": {
      "text/plain": "0.7033633163863903"
     },
     "execution_count": 24,
     "metadata": {},
     "output_type": "execute_result"
    }
   ],
   "source": [
    "nb_model = GaussianNB()\n",
    "\n",
    "\n",
    "nb_model = nb_model.fit(X_train, y_train)\n",
    "nb_resultaat_train = nb_model.predict(X_train)\n",
    "nb_accuracy_train = metrics.accuracy_score(y_train, nb_resultaat_train)\n",
    "nb_accuracy_train"
   ]
  },
  {
   "cell_type": "code",
   "execution_count": 25,
   "id": "d78b9fc9",
   "metadata": {
    "ExecuteTime": {
     "start_time": "2023-04-11T22:24:53.849734Z",
     "end_time": "2023-04-11T22:24:53.933705Z"
    }
   },
   "outputs": [
    {
     "data": {
      "text/plain": "0.7033633163863903"
     },
     "execution_count": 25,
     "metadata": {},
     "output_type": "execute_result"
    }
   ],
   "source": [
    "nb_resultaat_test = nb_model.predict(X_test)\n",
    "nb_accuracy =  metrics.accuracy_score(y_train, nb_resultaat_train)\n",
    "nb_accuracy"
   ]
  },
  {
   "cell_type": "markdown",
   "id": "9da6fb02",
   "metadata": {},
   "source": [
    "## Support Vector classifier\n",
    "Nu mag je hetzelfde doen voor de support vector classifier (SVC() ), gebruik de documentatie om hyperparameters met de juiste waarden in te vullen:\n",
    "- Gebruik de rbf kernel\n",
    "- random state moet 5 zijn\n",
    "- ```probability=True```: Deze parameter is nodig om straks de validatie te doen (meer specifiek om de ROC curves te berekenen, meer hierover later)."
   ]
  },
  {
   "cell_type": "code",
   "execution_count": 26,
   "id": "61e9f16c",
   "metadata": {
    "ExecuteTime": {
     "start_time": "2023-04-11T22:24:53.865640Z",
     "end_time": "2023-04-11T22:25:02.337633Z"
    }
   },
   "outputs": [
    {
     "data": {
      "text/plain": "0.6257332811888933"
     },
     "execution_count": 26,
     "metadata": {},
     "output_type": "execute_result"
    }
   ],
   "source": [
    "svc_model = SVC(kernel='rbf', random_state=5, probability=True)\n",
    "svc_model = svc_model.fit(X_train, y_train)\n",
    "#training data\n",
    "svc_resultaat_train = svc_model.predict(X_train)\n",
    "svc_accuracy_train = metrics.accuracy_score(y_train, svc_resultaat_train)\n",
    "svc_accuracy_train"
   ]
  },
  {
   "cell_type": "code",
   "execution_count": 27,
   "id": "101a6e65",
   "metadata": {
    "ExecuteTime": {
     "start_time": "2023-04-11T22:25:02.154346Z",
     "end_time": "2023-04-11T22:25:02.975649Z"
    }
   },
   "outputs": [
    {
     "data": {
      "text/plain": "0.6172445255474452"
     },
     "execution_count": 27,
     "metadata": {},
     "output_type": "execute_result"
    }
   ],
   "source": [
    "#test data\n",
    "svc_resultaat_test = svc_model.predict(X_test)\n",
    "svc_accuracy = metrics.accuracy_score(y_test, svc_resultaat_test)\n",
    "svc_accuracy"
   ]
  },
  {
   "cell_type": "markdown",
   "id": "241255e5",
   "metadata": {},
   "source": [
    "## Validatie classifiers\n",
    "Onderstaande vragen kun je beantwoorden aan de hand van de kennisclip validatie. \n",
    "\n",
    "We gaan nu de confusion matrix bereken. Hiervoor gebruiken we de functie ```confusion_matrix(werkelijkheid, voorspelling```. Je krijgt dan een 2d array terug, die de confusion matrix bevat. Maar wat betekent dit nu? Daarom een voorbeeld:\n",
    "\n",
    "Er is een test geweest met een getraind model, welke voor 10 dagen heeft voorspeld of er regen komt (1 = Morgen Regen, 0 = Morgen droog):\n",
    "\n",
    "    y_voorspelling  = [0,0,0,0,0,1,1,1,1,1]\n",
    "    y_werkelijkheid = [0,0,0,1,1,0,1,1,1,1]\n",
    "\n",
    "Daaruit kwam de volgende confusion matrix, dit kun je met de hand narekenen als je wilt:\n",
    "\n",
    "| x | model zegt Droog | model zegt Regen |\n",
    "|:---|:--:|--|\n",
    "het bleef droog | 3 | 1 |\n",
    "er was Regen | 2 | 4 |"
   ]
  },
  {
   "cell_type": "code",
   "execution_count": 28,
   "id": "1409d4cc",
   "metadata": {
    "ExecuteTime": {
     "start_time": "2023-04-11T22:25:02.980743Z",
     "end_time": "2023-04-11T22:25:03.023530Z"
    }
   },
   "outputs": [
    {
     "data": {
      "text/plain": "array([[3, 1],\n       [2, 4]], dtype=int64)"
     },
     "execution_count": 28,
     "metadata": {},
     "output_type": "execute_result"
    }
   ],
   "source": [
    "y_voorspelling  = [1,1,1,1,0,0,1,0,0,0]\n",
    "y_werkelijkheid = [1,1,1,1,1,1,0,0,0,0]\n",
    "confusion_matrix = metrics.confusion_matrix(y_werkelijkheid,y_voorspelling)\n",
    "confusion_matrix"
   ]
  },
  {
   "cell_type": "markdown",
   "id": "4cb0aae5",
   "metadata": {},
   "source": [
    "### Naieve Bayes\n",
    "Bereken nu voor jezelf de confusion matrix voor de naieve bayes:"
   ]
  },
  {
   "cell_type": "code",
   "execution_count": 29,
   "id": "39504e3d",
   "metadata": {
    "scrolled": true,
    "ExecuteTime": {
     "start_time": "2023-04-11T22:25:03.007443Z",
     "end_time": "2023-04-11T22:25:03.054828Z"
    }
   },
   "outputs": [
    {
     "data": {
      "text/plain": "array([[598, 241],\n       [408, 945]], dtype=int64)"
     },
     "execution_count": 29,
     "metadata": {},
     "output_type": "execute_result"
    }
   ],
   "source": [
    "confusion_matrix_nb = metrics.confusion_matrix(y_test, nb_resultaat_test)\n",
    "confusion_matrix_nb"
   ]
  },
  {
   "cell_type": "markdown",
   "id": "f4f31e8e",
   "metadata": {},
   "source": [
    "Vul op basis van bovenstaande confusion matrix de onderstaande waarden in:\n",
    "  \n",
    "    tp = True Positive (het is voorspeld dat het gaat regenen en dat gebeurt ook)\n",
    "    fp = False Positive (het is voorspeld dat het gaat regenen en maar het blijft droog)\n",
    "    tn = True Negative (het is voorspeld dat het droog blijft en dat gebeurt ook)\n",
    "    fn = False Negative  (het is voorspeld dat het droog blijft, maar het gaat regenen)"
   ]
  },
  {
   "cell_type": "code",
   "execution_count": 30,
   "id": "8758b132",
   "metadata": {
    "ExecuteTime": {
     "start_time": "2023-04-11T22:25:03.023530Z",
     "end_time": "2023-04-11T22:25:03.055995Z"
    }
   },
   "outputs": [],
   "source": [
    "tp_nb = 945\n",
    "fp_nb = 241 \n",
    "tn_nb = 598\n",
    "fn_nb = 408"
   ]
  },
  {
   "cell_type": "markdown",
   "id": "6f7acf94",
   "metadata": {},
   "source": [
    "Hoe houdt dit nu verband met de accuracy die je berekend hebt? Nou zo:"
   ]
  },
  {
   "cell_type": "code",
   "execution_count": 31,
   "id": "1cf83962",
   "metadata": {
    "ExecuteTime": {
     "start_time": "2023-04-11T22:25:03.039196Z",
     "end_time": "2023-04-11T22:25:03.109776Z"
    }
   },
   "outputs": [
    {
     "data": {
      "text/plain": "0.7039233576642335"
     },
     "execution_count": 31,
     "metadata": {},
     "output_type": "execute_result"
    }
   ],
   "source": [
    "accuracy_nb = (tn_nb + tp_nb)/(tn_nb + tp_nb + fp_nb + fn_nb)\n",
    "accuracy_nb"
   ]
  },
  {
   "cell_type": "markdown",
   "id": "94022003",
   "metadata": {},
   "source": [
    "Bereken nu zelf aan de hand van de videocolleges de false positive rate (FPR) en de true positive rate (TPR) voor de voorspelde data:"
   ]
  },
  {
   "cell_type": "code",
   "execution_count": 32,
   "id": "2ff5a786",
   "metadata": {
    "ExecuteTime": {
     "start_time": "2023-04-11T22:25:03.055995Z",
     "end_time": "2023-04-11T22:25:03.109776Z"
    }
   },
   "outputs": [
    {
     "data": {
      "text/plain": "0.2872467222884386"
     },
     "execution_count": 32,
     "metadata": {},
     "output_type": "execute_result"
    }
   ],
   "source": [
    "FPR_nb = fp_nb/(fp_nb + tn_nb)\n",
    "FPR_nb"
   ]
  },
  {
   "cell_type": "code",
   "execution_count": 33,
   "id": "aa286e90",
   "metadata": {
    "scrolled": true,
    "ExecuteTime": {
     "start_time": "2023-04-11T22:25:03.078496Z",
     "end_time": "2023-04-11T22:25:03.109776Z"
    }
   },
   "outputs": [
    {
     "data": {
      "text/plain": "0.6984478935698448"
     },
     "execution_count": 33,
     "metadata": {},
     "output_type": "execute_result"
    }
   ],
   "source": [
    "TPR_nb = tp_nb/(tp_nb + fn_nb)\n",
    "TPR_nb"
   ]
  },
  {
   "cell_type": "markdown",
   "id": "5b62f911",
   "metadata": {},
   "source": [
    "### Support Vector Machine Classifer\n",
    "Bereken ook voor jezelf de confusion matrix voor de support vector classifier.\n"
   ]
  },
  {
   "cell_type": "code",
   "execution_count": 34,
   "id": "51fcaef3",
   "metadata": {
    "ExecuteTime": {
     "start_time": "2023-04-11T22:25:03.094167Z",
     "end_time": "2023-04-11T22:25:03.109776Z"
    }
   },
   "outputs": [
    {
     "data": {
      "text/plain": "array([[   0,  839],\n       [   0, 1353]], dtype=int64)"
     },
     "execution_count": 34,
     "metadata": {},
     "output_type": "execute_result"
    }
   ],
   "source": [
    "confusion_matrix_svc = metrics.confusion_matrix(y_test,svc_resultaat_test)\n",
    "confusion_matrix_svc"
   ]
  },
  {
   "cell_type": "markdown",
   "id": "2f1a7c95",
   "metadata": {},
   "source": [
    "Vul op basis van bovenstaande confusion matrix de onderstaande waarden in:"
   ]
  },
  {
   "cell_type": "code",
   "execution_count": 35,
   "id": "fa856ae9",
   "metadata": {
    "ExecuteTime": {
     "start_time": "2023-04-11T22:25:03.109776Z",
     "end_time": "2023-04-11T22:25:03.134948Z"
    }
   },
   "outputs": [],
   "source": [
    "tp_svc = 1353\n",
    "fp_svc = 839\n",
    "tn_svc = 0\n",
    "fn_svc = 0"
   ]
  },
  {
   "cell_type": "code",
   "execution_count": 36,
   "id": "b44c9fb6",
   "metadata": {
    "ExecuteTime": {
     "start_time": "2023-04-11T22:25:03.134948Z",
     "end_time": "2023-04-11T22:25:03.243197Z"
    }
   },
   "outputs": [
    {
     "data": {
      "text/plain": "0.6172445255474452"
     },
     "execution_count": 36,
     "metadata": {},
     "output_type": "execute_result"
    }
   ],
   "source": [
    "accuracy_svc = (tn_svc + tp_svc)/(tn_svc + tp_svc + fp_svc + fn_svc)\n",
    "accuracy_svc"
   ]
  },
  {
   "cell_type": "code",
   "execution_count": 37,
   "id": "61795ef7",
   "metadata": {
    "ExecuteTime": {
     "start_time": "2023-04-11T22:25:03.150616Z",
     "end_time": "2023-04-11T22:25:03.258824Z"
    }
   },
   "outputs": [
    {
     "data": {
      "text/plain": "1.0"
     },
     "execution_count": 37,
     "metadata": {},
     "output_type": "execute_result"
    }
   ],
   "source": [
    "FPR_svc = fp_svc/(fp_svc + tn_svc)\n",
    "FPR_svc"
   ]
  },
  {
   "cell_type": "code",
   "execution_count": 38,
   "id": "09ab0492",
   "metadata": {
    "ExecuteTime": {
     "start_time": "2023-04-11T22:25:03.166221Z",
     "end_time": "2023-04-11T22:25:03.258824Z"
    }
   },
   "outputs": [
    {
     "data": {
      "text/plain": "1.0"
     },
     "execution_count": 38,
     "metadata": {},
     "output_type": "execute_result"
    }
   ],
   "source": [
    "TPR_svc = tp_svc/(tp_svc + tn_svc)\n",
    "TPR_svc"
   ]
  },
  {
   "cell_type": "markdown",
   "id": "d97a368e",
   "metadata": {},
   "source": [
    "## ROC curves \n",
    "Welke classifier is nu beter? We weten hoe we de volgende waardes te kunnen interpreteren:\n",
    "- Accuracy zo hoog mogelijk, maar geeft vals beeld als de classes niet gelijk verdeeld zijn. \n",
    "- FPR zo laag mogelijk\n",
    "- TPR zo hoog mogelijk\n",
    "\n",
    "Maar dan komt er nog steeds niet een eenduidig beeld uit of we Support Vectors of Naieve Bayes als beste model kunnen gebruiken. \n",
    "\n",
    "Laten we eens kijken hoe de ROC curve. Om deze te bouwen, moeten we de volgende stappen gebruiken:\n",
    " 1. We bereken voor elke rij (dus elke dag) de kans dat het in een bepaalde klasse terechtkomt (dus of het regent)\n",
    " 2. Die kansen leggen we tegen de werkelijkheid om een serie TPRs en FPRs voor ons getrainde model te berkenen, waarmee we de ROC curve kunnen opstellen. (meer details in de kennisclips)\n",
    " \n",
    "\n",
    "### stap 1: kansen per klasse bepalen:\n",
    "We gebruiken de functie ```predict_proba```, die automatisch voor ons een waardes voor de ROC curve teruggeeft. We hebben dus nu een DataFrame met evenveel rijen als onze X en evenveel kolommen als er klassen zijn:"
   ]
  },
  {
   "cell_type": "code",
   "execution_count": 39,
   "id": "6b9f8c4b",
   "metadata": {
    "ExecuteTime": {
     "start_time": "2023-04-11T22:25:03.181862Z",
     "end_time": "2023-04-11T22:25:03.990274Z"
    }
   },
   "outputs": [
    {
     "name": "stdout",
     "output_type": "stream",
     "text": [
      "(2192, 2)\n",
      "(2192, 2)\n"
     ]
    }
   ],
   "source": [
    "# Bereken de kans op een voorspelling (als het morgen gaat regenen, hoe groot is de kans dat dit klopt?)\n",
    "nb_probs = nb_model.predict_proba(X_test)\n",
    "print(nb_probs.shape)\n",
    "svc_probs = svc_model.predict_proba(X_test)\n",
    "print(svc_probs.shape)"
   ]
  },
  {
   "cell_type": "markdown",
   "id": "88e3c8c6",
   "metadata": {},
   "source": [
    "Omdat we dus alleen geinteresseerd zijn of het morgen regent, dus RM = True. Kijken we alleen naar de klasse met het label == 1. We selecteren die kolom dus uit de data:"
   ]
  },
  {
   "cell_type": "code",
   "execution_count": 40,
   "id": "c3749744",
   "metadata": {
    "ExecuteTime": {
     "start_time": "2023-04-11T22:25:03.994616Z",
     "end_time": "2023-04-11T22:25:04.832405Z"
    }
   },
   "outputs": [],
   "source": [
    "nb_probs = nb_model.predict_proba(X_test)[:,1]\n",
    "svc_probs = svc_model.predict_proba(X_test)[:,1]"
   ]
  },
  {
   "cell_type": "markdown",
   "id": "175c04ae",
   "metadata": {},
   "source": [
    "### stap 2: Serie van TPR en FPR berekenen \n",
    "We gebruiken de functie ```roc_curve(werkelijkheid, kansen)```, die automatisch voor ons alle FPR en TPR waardes voor de ROC curve teruggeeft. _ als parameter betekent in python \"negeer deze variabele\".\n",
    "\n",
    "De werkelijkheid bevat onze uiteindelijke data en de kansen is voor elk rij de kans dat die rij aan de klasse wordt toegekent:"
   ]
  },
  {
   "cell_type": "code",
   "execution_count": 41,
   "id": "1c1338f8",
   "metadata": {
    "ExecuteTime": {
     "start_time": "2023-04-11T22:25:04.836910Z",
     "end_time": "2023-04-11T22:25:04.880256Z"
    }
   },
   "outputs": [],
   "source": [
    "nb_fpr, nb_tpr, _ = roc_curve(y_test, nb_probs)\n",
    "svc_fpr, svc_tpr, _ = roc_curve(y_test, svc_probs)"
   ]
  },
  {
   "cell_type": "markdown",
   "id": "d3cecd47",
   "metadata": {},
   "source": [
    "Laten we deze eens plotten in een grafiek:"
   ]
  },
  {
   "cell_type": "code",
   "execution_count": null,
   "id": "b01302c6",
   "metadata": {
    "pycharm": {
     "is_executing": true
    }
   },
   "outputs": [],
   "source": [
    "plt.figure()\n",
    "\n",
    "# plot the roc curve for the model\n",
    "plt.plot(nb_fpr, nb_tpr,  label='Naive Bayes')\n",
    "plt.plot(svc_fpr, svc_tpr,  label='Support Vector Classifier')\n",
    "plt.plot([0, 1], [0, 1], color=\"navy\", linestyle=\"--\", label='random gokje')\n",
    "\n",
    "#print tekst voor as-labels, titel en legenda\n",
    "plt.xlabel('False Positive Rate')\n",
    "plt.ylabel('True Positive Rate')\n",
    "plt.title(\"Receiver Operating Characteristic (ROC) curve\")\n",
    "plt.legend(loc=\"lower right\")\n",
    "\n",
    "#laat het plot zien\n",
    "plt.show()"
   ]
  },
  {
   "cell_type": "markdown",
   "id": "ba9c8c26",
   "metadata": {},
   "source": [
    "### <font color='red'>Vraag</font> \n",
    "Je ziet dat de classifers erlkaar eigenlijk niet zoveel ontlopen. Welk model zou jij kiezen?"
   ]
  },
  {
   "cell_type": "markdown",
   "id": "777edcb0",
   "metadata": {},
   "source": [
    "# Cross-Validatie\n",
    "Je hebt vorige week al in de kennisclips kunnen kennismaken met __cross-validatie__ .  Cross-validatie kun je op 2 manieren gebruiken: \n",
    "\n",
    " 1. __Betrouwbaarheid__\n",
    "    Als er veel variatie in jouw data zit, kun je testen of het model betrouwbaar genoeg is: \n",
    "    Heeft het model voor verschillende data, dezelfde accuracy?\n",
    " 2. __Hyperparameter selectie__\n",
    "    Als je voor een algoritme verschillende hyperparameters kunt kiezen, hoe weet je dan welke je nodig hebt?\n",
    "\n",
    "## Betrouwbaarheid\n",
    "\n",
    "### support vector machine\n",
    "We gaan een support vector classifier maken, maar zoals je in de documentatie kan lezen, zijn er veel verschillende opties. Hoe kun je nu weten welke de juiste, meest optimale hyperparameters zijn. Daarvoor gebruiken we de __cross-validatie__ waar je al in de kennisclip van 2 weken geleden kennis mee hebt gemaakt. \n",
    "\n",
    "Bereken nu de scores voor het ```svc_model``` met 6 folds:"
   ]
  },
  {
   "cell_type": "code",
   "execution_count": null,
   "id": "9b528d91",
   "metadata": {
    "pycharm": {
     "is_executing": true
    }
   },
   "outputs": [],
   "source": [
    "scores_svc = cross_val_score(svc_model, X_test, y_test, cv = 6)\n",
    "scores_svc"
   ]
  },
  {
   "cell_type": "markdown",
   "id": "df988e71",
   "metadata": {},
   "source": [
    "We hebben nu 6 voorspellingen omdat we de data in 6 verschillende stukken hebben opgehakt. \n",
    "De belangrijkste waardes voor ons om in de gaten te houden is het gemiddelde van deze score en de standaardeviatie.\n",
    "\n",
    "Als de standaarddeviate van deze score groot is, zitten er grote afwijkingen in onze dataset en dus is ons model\n",
    "misschien minder betrouwbaar omdat de voorspellingen kunnen wisselen. "
   ]
  },
  {
   "cell_type": "code",
   "execution_count": null,
   "id": "ff8a3873",
   "metadata": {
    "pycharm": {
     "is_executing": true
    }
   },
   "outputs": [],
   "source": [
    "scores_svc_mean = scores_svc.mean()\n",
    "scores_svc_std = scores_svc.std()\n",
    "\n",
    "print(scores_svc_mean)\n",
    "print(scores_svc_std)"
   ]
  },
  {
   "cell_type": "markdown",
   "id": "ff85877b",
   "metadata": {},
   "source": [
    "### Naieve Bayes Classifier\n",
    "Bereken nu voor Naieve bayes the cross validate op basis van 6 folds."
   ]
  },
  {
   "cell_type": "code",
   "execution_count": null,
   "id": "ae33782a",
   "metadata": {
    "pycharm": {
     "is_executing": true
    }
   },
   "outputs": [],
   "source": [
    "# Maak de 6-fold cross validatie\n",
    "scores_nb = cross_val_score(nb_model, X_train, X_train, cv = 6)\n",
    "scores_nb"
   ]
  },
  {
   "cell_type": "code",
   "execution_count": null,
   "id": "d24cb985",
   "metadata": {
    "pycharm": {
     "is_executing": true
    }
   },
   "outputs": [],
   "source": [
    "scores_nb_mean = scores_nb.mean()\n",
    "scores_nb_std = scores_nb.std()\n",
    "\n",
    "print(scores_nb_mean)\n",
    "print(scores_nb_std)"
   ]
  },
  {
   "cell_type": "markdown",
   "id": "e96d852e",
   "metadata": {},
   "source": [
    "### <font color='red'>Vraag</font> \n",
    "Welke classifier vindt je het meest betrouwbaar? Waarom?"
   ]
  },
  {
   "cell_type": "code",
   "execution_count": null,
   "id": "ddf53874",
   "metadata": {
    "pycharm": {
     "is_executing": true
    }
   },
   "outputs": [],
   "source": [
    "betrouwbaarste_model = svc_model\n",
    "# Dit vind ik de meest betrouwbaarste model omdat het de kleinste standaard deviatie heeft ten opzich van de rest. De voorspellingen van het model het liggen daardoor het meest in richting van de gemiddelde voorspellingen meer om de waardes van de mean dat een model hoort te volgen."
   ]
  },
  {
   "cell_type": "markdown",
   "id": "99bc4275",
   "metadata": {},
   "source": [
    "    <De standard deviation van de Naive Bayes model is een flinke stuk beter dan de Support Vector Machine Classifier, dit betekents dat de gemiddelde voorspellingen meer in de righting liggen om de waardes van de mean dat een model hoort te volgen.>\n"
   ]
  },
  {
   "cell_type": "markdown",
   "id": "30ddb45d",
   "metadata": {},
   "source": [
    "# Gaat het vandaag regenen?\n",
    "Gaat het morgen regenen of niet? Ga nu zelf naar de website van het KNMI zoals de link hierboven en haal de gegevens van gisteren op voor het weerstation van Schiphol.\n",
    "\n",
    "1. Vul ```gekozen_datum``` met de string uit de kolom YYYYMMDD, zodat wij in codegrade kunnen controleren welke dag je gepakt hebt en jouw uitkomst kunnen vergelijken met de weerdata van het KNMI. Zo kun je straks in condegrade controleren of je deze stap goed hebt gedaan.\n",
    "2. Maak vervolgens zelf een dictionary ```jouwdata``` aan, waarin je de juiste kolommen vult met data uit de knmi website. Vul de missende kolommen zelf aan zoals bovenaan beschreven. \n",
    "3. Bewerk ```X_jij``` op de juiste wijze voor zodat het een Pandas DataFrame is, met de juiste kolommen waarin de waarde gestandaardiseerd zijn. De bewerkte gegevens moeten uiteindelijk overeenkomen, met de data, zoals die in ```X_test``` staat (alleen heeft X_jij dan natuurlijk slechts 1 rij).\n",
    "\n"
   ]
  },
  {
   "cell_type": "code",
   "execution_count": null,
   "id": "61c8772d",
   "metadata": {
    "pycharm": {
     "is_executing": true
    }
   },
   "outputs": [],
   "source": [
    "gekozen_datum = 20020103\n",
    "jouwdata = {'FG': 58,\n",
    "            'TG': 50,\n",
    "            'TN': -1,\n",
    "            'TX': 103,\n",
    "            'SQ': 105,\n",
    "            'SP': 92,\n",
    "            'RH': 0,\n",
    "            'PG': 10207,\n",
    "            'NG': 0,\n",
    "            'UG': 60,\n",
    "            'YYYYMMDD': 20220103,\n",
    "            'YYYY': 2022,\n",
    "            'MM': 1,\n",
    "            'DD': 3,\n",
    "            'MS': 0}\n",
    "\n",
    "#maakt van de data een Pandas Dataframe:\n",
    "jouwdata = pd.DataFrame(jouwdata, index=[0])\n",
    "\n",
    "#print jouw data zodat je kunt zien of het klopt:\n",
    "jouwdata.head()\n"
   ]
  },
  {
   "cell_type": "code",
   "execution_count": null,
   "id": "99173af6",
   "metadata": {
    "pycharm": {
     "is_executing": true
    }
   },
   "outputs": [],
   "source": [
    "X_jij = verwijder_kolommen(jouwdata)\n",
    "X_jij = verwijder_NaN(X_jij)\n",
    "X_jij = pd.DataFrame(scaler.transform(X_jij), columns=list(X_jij.columns))\n",
    "X_jij.head()"
   ]
  },
  {
   "cell_type": "markdown",
   "id": "1551b5da",
   "metadata": {},
   "source": [
    "Als de data goed is voorbereid, kun je hieronder uitlezen of je vandaag een paraplu nodig hebt. "
   ]
  },
  {
   "cell_type": "code",
   "execution_count": null,
   "id": "44560292",
   "metadata": {
    "pycharm": {
     "is_executing": true
    }
   },
   "outputs": [],
   "source": [
    "uitslag = {1: \"Ja\", 0: \"nee\"}\n",
    "voorspelling_jij = betrouwbaarste_model.predict(X_jij)[0]\n",
    "uitslag[voorspelling_jij]"
   ]
  },
  {
   "cell_type": "markdown",
   "id": "4a9c5e16",
   "metadata": {},
   "source": [
    "Geef hieronder een float met de kans dat de voorspelling correct is:\n"
   ]
  },
  {
   "cell_type": "code",
   "execution_count": null,
   "id": "7e850b6b",
   "metadata": {
    "pycharm": {
     "is_executing": true
    }
   },
   "outputs": [],
   "source": [
    "accuracy_beste_model = accuracy_svc"
   ]
  },
  {
   "cell_type": "markdown",
   "id": "4de5e7af",
   "metadata": {},
   "source": [
    "Waarom een ja/nee antwoord? We kunnen ook uitrekenen wat de kans is dat het droog blijft en de kans dat het gaat regenen met predict_proba! Kun jij de data interpreteren. Geef de kansen in float in de desbetreffende  variabelen:"
   ]
  },
  {
   "cell_type": "code",
   "execution_count": null,
   "id": "489f4b0b",
   "metadata": {
    "pycharm": {
     "is_executing": true
    }
   },
   "outputs": [],
   "source": [
    "st_probs = betrouwbaarste_model.predict_proba(X_jij)\n",
    "st_probs"
   ]
  },
  {
   "cell_type": "code",
   "execution_count": null,
   "id": "fc365f86",
   "metadata": {
    "pycharm": {
     "is_executing": true
    }
   },
   "outputs": [],
   "source": [
    "#Class 0 is droog, class 1 is regen:\n",
    "kans_regen = 1\n",
    "kans_droog = 0"
   ]
  }
 ],
 "metadata": {
  "kernelspec": {
   "display_name": "Python 3 (ipykernel)",
   "language": "python",
   "name": "python3"
  },
  "language_info": {
   "codemirror_mode": {
    "name": "ipython",
    "version": 3
   },
   "file_extension": ".py",
   "mimetype": "text/x-python",
   "name": "python",
   "nbconvert_exporter": "python",
   "pygments_lexer": "ipython3",
   "version": "3.9.13"
  }
 },
 "nbformat": 4,
 "nbformat_minor": 5
}

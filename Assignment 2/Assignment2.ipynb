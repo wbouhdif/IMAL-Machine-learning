{
 "cells": [
  {
   "cell_type": "markdown",
   "metadata": {},
   "source": [
    "| <font color='red'>Belangrijk !!</font> |\n",
    "|:---|\n",
    "|Lees voor het maken de inleverinstructies door in de toetsbeschrijving (MS Teams, kanaal algemeen, Files, Moduledocumentatie).  Het niet opvolgen van deze instructies kan leiden tot een onvoldoende |\n",
    "\n",
    "# Assignment 2\n",
    "\n",
    "In deze assignment ga je een auto-verkoper helpen om twee onderzoeksvragen te beantwoorden:\n",
    "  1. Hoe kan de klasse van een auto voorspeld worden?\n",
    "  2. Hoe kan de prijs van een auto voorspeld worden?\n",
    "\n",
    "In deze opdracht mag je zelf laten zien wat je hebt geleerd qua classificatie en regressie. Dit zijn de regels:\n",
    "- Beantwoord per hoofdstuk de vragen\n",
    "- Zorg dat je de gevraagde informatie/data in de voorgedefinieerde variabelen zet. \n",
    "- Er kunnen meer variabelen gedefinieerd zijn, dan je nodig hebt. Deze laat je op None staan om aan te geven dat je weet dat je deze niet nodig hebt om tot jouw oplossing te komen. Dit is onze manier om te testen of je de methode echt goed snapt en de juiste keuzes weet te maken.  \n",
    "- Het staat je natuurlijk vrij om andere variabelen te definieren, maar onderstaande variabelen zijn degenen die we in het Codegrade script gebruiken om na te kijken. \n",
    "- Verander de namen van de variabelen __niet__\n",
    "- Je kunt zoveel cellen met code en/of commentaar aanmaken als je wilt\n",
    "- Zorg dat je een notebook inlevert, welke  __alleen__ de code bevat die bijdraagt aan jouw oplossing: je levert tenslotte ook niet jouw kladpapier in bij een schriftelijke toets."
   ]
  },
  {
   "cell_type": "markdown",
   "metadata": {},
   "source": [
    "## Opdracht en data beschrijving\n",
    "\n",
    "Onze klant is een auto verkoper, genaamd <B>Auto4all</B>. Auto4all heeft de laatste jaren veel data verzameld over de auto's die ze via hun platform online verkopen. \n",
    "    \n",
    "Meestal huurden ze een expert in om naar elk van de auto's te kijken, die ze willen kopen/verkopen en de expert de prijs en de status van de auto's te laten bepalen. Nu willen ze, met behulp van machine learning en de gegevens waarover ze op dit moment beschikken, het proces automatiseren. Dus in plaats van de prijs en de staat van een auto via een expert te laten voorspellen, ga je machine learning technieken toepassen om dit soort voorspellingen te doen.  \n",
    "\n",
    "\n",
    "'Auto4all' heeft twee datasets tot zijn beschikking waarop je jouw machine learning modellen gaat toepassen.\n",
    "\n",
    "Bij de eerste dataset per auto zijn de volgende kenmerken bijgehouden:\n",
    "\n",
    "\n",
    "| __kolomnaam__ | __beschrijving__ | __datatype__ |\n",
    "|:---|:---|:---|\n",
    "| koop      | Aankoopprijs van de auto ('zeer hoog', 'hoog', 'medium', 'laag') | String   | \n",
    "| onderhoud | Prijs van het onderhoud van de auto ('zeer hoog', 'hoog', 'medium', 'laag') | String  | \n",
    "| deuren    | Aantal deuren in de auto  | float64 |\n",
    "| personen  | Capaciteit in termen van te vervoeren personen | float64 | \n",
    "| kofferbak\t  | De grootte van bagageruimte ('klein', 'medium', 'groot')| String  | \n",
    "| veiligheid | Geschatte veiligheid van de auto ('laag', 'medium', 'hoog') | String | \n",
    "| staat       | Auto staat ('goed', 'slecht')  | String | \n",
    "\n",
    "\n",
    "De data bij de de tweede dataset bevat de volgende kolommen:\n",
    "\n",
    "| __kolomnaam__ | __beschrijving__ | __datatype__ |\n",
    "|:---|:---|:---|\n",
    "| auto_id     | Een nummer die elke auto identificeert | int64\n",
    "| automerk    | De automerk van de auto (Volgswagen, Volvo, Polo, Suzuki, Fiat, Renault)  | String   | \n",
    "| carroserie  | Type auto, zoals cabrio of 4x4 | String  | \n",
    "| verkoopprijs       | De verkoopprijs in euro's  | float64 | \n",
    "| kilometerstand     | Het aantal km dat de auto heeft gereden | float64 | \n",
    "| versnellinsbak   | Type schakeling, handmatig, automaat, etc | String  | \n",
    "| leeftijd_auto | Aantal jaren dat de auto oud is | float64 | \n",
    "| type_motor    | Type brandstof (benzine, diesel, electrisch) | String  | \n",
    "| pk          | hoeveelheid paardekracht, een grove indicatie van de kracht van de motor  | float64 | \n",
    "| nieuwstaat  | Of de auto nieuw of al gebruikt is | String | \n",
    "| lease_bedrag | De auto kan worden geleast (gehuurd voor langere tijd). dit is dan het bedrag per maand | float64\n",
    "| airco        | Of de auto is uitgerust met airconditioning of niet. Dus True of False | Boolean          \n",
    "\n",
    "Volg de opdrachten hieronder om de onderzoeksvragen van 'Auto4all' op de juiste manier te beantwoorden. Het bedrijf is alleen geïnteresseerd in de verkoopprijs van auto's, niet in het lease bedrag.\n",
    "\n",
    "### Opdracht\n",
    "De opdracht bestaat uit 2 onderdelen: \n",
    "1. Ten eerste, ga je een machine learning model trainen en testen die de relatie tussen een auto's staat en de andere kenmerken modeleert. Het model kun je straks gebruiken om ook nieuwe, nu nog onbekende auto's, een correcte voorspelling van de staat te geven. Voor dit eerste onderdeel maak je gebruik van de data in de csv bestand \"auto_klasse.csv\"\n",
    "\n",
    "2. Ten tweede ga je de prijs van de auto's voorspellen. Door deze keer ook gebruik te maken van machine learning technieken. De data die je gaat gebruiken bij dit onderdeel staat in het csv bestand \"lease_data.csv\"\n"
   ]
  },
  {
   "cell_type": "markdown",
   "metadata": {},
   "source": [
    "### importeer de benodigde pakketten"
   ]
  },
  {
   "cell_type": "code",
   "execution_count": 1,
   "metadata": {},
   "outputs": [],
   "source": [
    "# import statements\n",
    "import pandas as pd\n",
    "import seaborn as sns\n",
    "import numpy as np\n",
    "import matplotlib.pyplot as plt\n",
    "\n",
    "from sklearn import metrics\n",
    "from sklearn.naive_bayes import GaussianNB\n",
    "from sklearn.preprocessing import StandardScaler\n",
    "from sklearn.model_selection import train_test_split\n",
    "from sklearn.model_selection import cross_val_score\n",
    "from sklearn.linear_model import LinearRegression"
   ]
  },
  {
   "cell_type": "markdown",
   "metadata": {},
   "source": [
    "# Opdracht deel1\n",
    "## 1.1 Data inladen en voorbereiden"
   ]
  },
  {
   "cell_type": "markdown",
   "metadata": {},
   "source": [
    "Laad de data van het csv bestand \"auto_klasse.csv\" in in een pandas dataframe zoals je tijdens de werkcolleges hebt geleerd. De string die gebruikt wordt in jouw code om de file in te lezen sla je op in de variabele ```pad_naar_file_1```"
   ]
  },
  {
   "cell_type": "code",
   "execution_count": 2,
   "metadata": {},
   "outputs": [],
   "source": [
    "pad_naar_file_1 = \"auto_klasse.csv\""
   ]
  },
  {
   "cell_type": "markdown",
   "metadata": {},
   "source": [
    "Lees de file in en bereidt deze data voor op machine learning, zoals je geleerd hebt tijdens de werkcolleges. Onderstaande variabelen kun je gebruiken om bovenstaande vraag te beantwoorden. \n",
    "\n",
    "df_orig_1 moet de originele ingelezen data van de file pad_naar_file_1 bevatten. Deze variabele is dus van het type Pandas Dataframe. Zorg dat dit dataframe NIET veranderd is tijdens het maken van je notebook."
   ]
  },
  {
   "cell_type": "code",
   "execution_count": 3,
   "metadata": {},
   "outputs": [],
   "source": [
    "# vervang \"None\" door jouw code die de pad_naar_file_1 inleest\n",
    "df_orig_1 = pd.read_csv(pad_naar_file_1)"
   ]
  },
  {
   "cell_type": "markdown",
   "metadata": {},
   "source": [
    "Nadat je de data in ```df_orig_1``` hebt ingeladen, maak je een kopie van de dataframe in ```df_1```. ```df_1``` is de dataframe die je voor machine learning gaat gebruiken. "
   ]
  },
  {
   "cell_type": "code",
   "execution_count": 4,
   "metadata": {},
   "outputs": [],
   "source": [
    "# vervang \"None\" met je code die de dataframe in df_1 copieert\n",
    "df_1 = df_orig_1.copy()"
   ]
  },
  {
   "cell_type": "code",
   "execution_count": 5,
   "metadata": {},
   "outputs": [
    {
     "name": "stdout",
     "output_type": "stream",
     "text": [
      "<class 'pandas.core.frame.DataFrame'>\n",
      "RangeIndex: 1728 entries, 0 to 1727\n",
      "Data columns (total 7 columns):\n",
      " #   Column         Non-Null Count  Dtype  \n",
      "---  ------         --------------  -----  \n",
      " 0   koop           1728 non-null   object \n",
      " 1   onderhoud      1728 non-null   object \n",
      " 2   deuren         1728 non-null   float64\n",
      " 3   personen       1728 non-null   float64\n",
      " 4   kofferbak      1728 non-null   object \n",
      " 5   veiligheid     1728 non-null   object \n",
      " 6   Is_staat_goed  1728 non-null   bool   \n",
      "dtypes: bool(1), float64(2), object(4)\n",
      "memory usage: 82.8+ KB\n"
     ]
    }
   ],
   "source": [
    "df_1.info()"
   ]
  },
  {
   "cell_type": "code",
   "execution_count": 6,
   "metadata": {},
   "outputs": [
    {
     "data": {
      "text/html": [
       "<div>\n",
       "<style scoped>\n",
       "    .dataframe tbody tr th:only-of-type {\n",
       "        vertical-align: middle;\n",
       "    }\n",
       "\n",
       "    .dataframe tbody tr th {\n",
       "        vertical-align: top;\n",
       "    }\n",
       "\n",
       "    .dataframe thead th {\n",
       "        text-align: right;\n",
       "    }\n",
       "</style>\n",
       "<table border=\"1\" class=\"dataframe\">\n",
       "  <thead>\n",
       "    <tr style=\"text-align: right;\">\n",
       "      <th></th>\n",
       "      <th>deuren</th>\n",
       "      <th>personen</th>\n",
       "    </tr>\n",
       "  </thead>\n",
       "  <tbody>\n",
       "    <tr>\n",
       "      <th>count</th>\n",
       "      <td>1728.000000</td>\n",
       "      <td>1728.000000</td>\n",
       "    </tr>\n",
       "    <tr>\n",
       "      <th>mean</th>\n",
       "      <td>3.500000</td>\n",
       "      <td>4.333333</td>\n",
       "    </tr>\n",
       "    <tr>\n",
       "      <th>std</th>\n",
       "      <td>1.118358</td>\n",
       "      <td>2.055399</td>\n",
       "    </tr>\n",
       "    <tr>\n",
       "      <th>min</th>\n",
       "      <td>2.000000</td>\n",
       "      <td>2.000000</td>\n",
       "    </tr>\n",
       "    <tr>\n",
       "      <th>25%</th>\n",
       "      <td>2.750000</td>\n",
       "      <td>2.000000</td>\n",
       "    </tr>\n",
       "    <tr>\n",
       "      <th>50%</th>\n",
       "      <td>3.500000</td>\n",
       "      <td>4.000000</td>\n",
       "    </tr>\n",
       "    <tr>\n",
       "      <th>75%</th>\n",
       "      <td>4.250000</td>\n",
       "      <td>7.000000</td>\n",
       "    </tr>\n",
       "    <tr>\n",
       "      <th>max</th>\n",
       "      <td>5.000000</td>\n",
       "      <td>7.000000</td>\n",
       "    </tr>\n",
       "  </tbody>\n",
       "</table>\n",
       "</div>"
      ],
      "text/plain": [
       "            deuren     personen\n",
       "count  1728.000000  1728.000000\n",
       "mean      3.500000     4.333333\n",
       "std       1.118358     2.055399\n",
       "min       2.000000     2.000000\n",
       "25%       2.750000     2.000000\n",
       "50%       3.500000     4.000000\n",
       "75%       4.250000     7.000000\n",
       "max       5.000000     7.000000"
      ]
     },
     "execution_count": 6,
     "metadata": {},
     "output_type": "execute_result"
    }
   ],
   "source": [
    "df_1.describe()"
   ]
  },
  {
   "cell_type": "code",
   "execution_count": 7,
   "metadata": {},
   "outputs": [
    {
     "data": {
      "text/html": [
       "<div>\n",
       "<style scoped>\n",
       "    .dataframe tbody tr th:only-of-type {\n",
       "        vertical-align: middle;\n",
       "    }\n",
       "\n",
       "    .dataframe tbody tr th {\n",
       "        vertical-align: top;\n",
       "    }\n",
       "\n",
       "    .dataframe thead th {\n",
       "        text-align: right;\n",
       "    }\n",
       "</style>\n",
       "<table border=\"1\" class=\"dataframe\">\n",
       "  <thead>\n",
       "    <tr style=\"text-align: right;\">\n",
       "      <th></th>\n",
       "      <th>koop</th>\n",
       "      <th>onderhoud</th>\n",
       "      <th>deuren</th>\n",
       "      <th>personen</th>\n",
       "      <th>kofferbak</th>\n",
       "      <th>veiligheid</th>\n",
       "      <th>Is_staat_goed</th>\n",
       "    </tr>\n",
       "  </thead>\n",
       "  <tbody>\n",
       "    <tr>\n",
       "      <th>0</th>\n",
       "      <td>3</td>\n",
       "      <td>3</td>\n",
       "      <td>2.0</td>\n",
       "      <td>2.0</td>\n",
       "      <td>0</td>\n",
       "      <td>0</td>\n",
       "      <td>0</td>\n",
       "    </tr>\n",
       "    <tr>\n",
       "      <th>1</th>\n",
       "      <td>3</td>\n",
       "      <td>3</td>\n",
       "      <td>2.0</td>\n",
       "      <td>2.0</td>\n",
       "      <td>0</td>\n",
       "      <td>1</td>\n",
       "      <td>0</td>\n",
       "    </tr>\n",
       "    <tr>\n",
       "      <th>2</th>\n",
       "      <td>3</td>\n",
       "      <td>3</td>\n",
       "      <td>2.0</td>\n",
       "      <td>2.0</td>\n",
       "      <td>0</td>\n",
       "      <td>2</td>\n",
       "      <td>0</td>\n",
       "    </tr>\n",
       "    <tr>\n",
       "      <th>3</th>\n",
       "      <td>3</td>\n",
       "      <td>3</td>\n",
       "      <td>2.0</td>\n",
       "      <td>2.0</td>\n",
       "      <td>1</td>\n",
       "      <td>0</td>\n",
       "      <td>0</td>\n",
       "    </tr>\n",
       "    <tr>\n",
       "      <th>4</th>\n",
       "      <td>3</td>\n",
       "      <td>3</td>\n",
       "      <td>2.0</td>\n",
       "      <td>2.0</td>\n",
       "      <td>1</td>\n",
       "      <td>1</td>\n",
       "      <td>0</td>\n",
       "    </tr>\n",
       "  </tbody>\n",
       "</table>\n",
       "</div>"
      ],
      "text/plain": [
       "   koop  onderhoud  deuren  personen  kofferbak  veiligheid  Is_staat_goed\n",
       "0     3          3     2.0       2.0          0           0              0\n",
       "1     3          3     2.0       2.0          0           1              0\n",
       "2     3          3     2.0       2.0          0           2              0\n",
       "3     3          3     2.0       2.0          1           0              0\n",
       "4     3          3     2.0       2.0          1           1              0"
      ]
     },
     "execution_count": 7,
     "metadata": {},
     "output_type": "execute_result"
    }
   ],
   "source": [
    "set_koop = {'laag': 0, 'medium': 1, 'hoog': 2, 'zeer hoog': 3}\n",
    "df_1[\"koop\"] = df_1[\"koop\"].map(set_koop)\n",
    "\n",
    "set_onderhoud = {'laag': 0, 'medium': 1, 'hoog': 2, 'zeer hoog': 3}\n",
    "df_1[\"onderhoud\"] = df_1[\"onderhoud\"].map(set_onderhoud)\n",
    "\n",
    "set_kofferbak = {'klein': 0, 'medium': 1, 'groot': 2}\n",
    "df_1[\"kofferbak\"] = df_1[\"kofferbak\"].map(set_kofferbak)\n",
    "\n",
    "set_veiligheid = {'laag': 0, 'medium': 1, 'hoog': 2}\n",
    "df_1[\"veiligheid\"] = df_1[\"veiligheid\"].map(set_veiligheid)\n",
    "\n",
    "set_Is_staat_goed = {False: 0, True: 1}\n",
    "df_1[\"Is_staat_goed\"] = df_1[\"Is_staat_goed\"].map(set_Is_staat_goed)\n",
    "\n",
    "df_1.head(5)"
   ]
  },
  {
   "cell_type": "code",
   "execution_count": 8,
   "metadata": {},
   "outputs": [
    {
     "data": {
      "text/plain": [
       "koop             0\n",
       "onderhoud        0\n",
       "deuren           0\n",
       "personen         0\n",
       "kofferbak        0\n",
       "veiligheid       0\n",
       "Is_staat_goed    0\n",
       "dtype: int64"
      ]
     },
     "execution_count": 8,
     "metadata": {},
     "output_type": "execute_result"
    }
   ],
   "source": [
    "df_1.isnull().sum(axis = 0)"
   ]
  },
  {
   "cell_type": "markdown",
   "metadata": {},
   "source": [
    "Nu ga je de data in df_1 voor machine learning voorbereiden. Volg de data voorbereiding stappen zoals je hebt geleerd om df_1 voor machine learning te bereiden. \n",
    "\n",
    "Je mag cellen toe voegen als het nodig is!"
   ]
  },
  {
   "cell_type": "markdown",
   "metadata": {},
   "source": [
    "Zorg ervoor dat de data op de juiste manier wordt voorbereid en vul onderstaande  variabelen met de data zoals je geleerd hebt.  Denk je dat je de variabele niet nodig hebt? Laat deze dan op None staan. Zo kunnen we zien of je echt begrijpt wat je aan het doen bent. \n",
    "\n",
    "Aan het einde van dit hoofdstuk, moet de data zo zijn voorbereid dat er geen extra voorbereidingsstappen op de dataset nodig zijn. De data kan zo als input voor het machine learning algoritme gebruikt worden."
   ]
  },
  {
   "cell_type": "markdown",
   "metadata": {},
   "source": [
    "\n",
    "\n",
    "De variabelen die je kunt vullen met zinvolle data voor deze stap zijn:\n",
    "\n",
    "| __Variabele__ | __beschrijving__ | __datatype__\n",
    "|:---|:--:|:---|\n",
    "| scaler_1 | de StandardScaler scaler object die je hebt gebruikt | sklearn StandardScaler |\n",
    "| X_1 | de onafhankelijke variabelen van de gehele dataset | Pandas Dataframe |\n",
    "| y_1 | de afhankelijke variabelen van de gehele dataset | Pandas Series |\n",
    "| X_train_1 | de onafhankelijke variabelen van de trainingsset | Pandas Dataframe |\n",
    "| y_train_1 | de afhankelijke variabelen van de trainingsset | Pandas Series |\n",
    "| X_test_1 | de onafhankelijke variabelen van de testset | Pandas Dataframe |\n",
    "| y_test_1 | de afhankelijke variabelen van de testset | Pandas Series |"
   ]
  },
  {
   "cell_type": "markdown",
   "metadata": {},
   "source": [
    "Maak hieronder meerdere cellen aan om jouw machine learning code te schrijven en de oplossing voor het vraagstuk te geven"
   ]
  },
  {
   "cell_type": "code",
   "execution_count": 9,
   "metadata": {},
   "outputs": [],
   "source": [
    "scaler_1 = StandardScaler()\n",
    "\n",
    "X_1 = df_1.drop(['Is_staat_goed'],axis=1)\n",
    "y_1 = df_1['Is_staat_goed']\n",
    "\n",
    "X_train_1, X_test_1, y_train_1, y_test_1 = train_test_split(X_1, y_1, test_size=0.3, random_state=42)\n",
    "\n",
    "X_train_1 = pd.DataFrame(scaler_1.fit_transform(X_train_1), columns=list(X_1.columns))\n",
    "X_test_1 = pd.DataFrame(scaler_1.transform(X_test_1), columns=list(X_1.columns))\n"
   ]
  },
  {
   "cell_type": "markdown",
   "metadata": {},
   "source": [
    "## 1.2 Voorspel of een auto in een goede staat is "
   ]
  },
  {
   "cell_type": "markdown",
   "metadata": {},
   "source": [
    "Ontwikkel nu een machine learning algoritme dat zo goed mogelijk voorspelt of een auto in een goede staat is of niet. Ook wil Auto4all weten wat de kansen zijn dat een auto een goede of een slechte staat heeft op basis van de kenmerken die bij de auto horen. \n",
    "Maak hierbij gebruik van de technieken die je geleerd hebt in het werkcollege. \n",
    "\n",
    "Nu dat je het probleem snapt en als je naar de afhankelijke variabele kijkt, welke type machine learning gaat het over bij de eerste deel van de opdracht? \n",
    " 1. Regressie\n",
    " 2. Classificatie\n",
    " 3. Clustering\n",
    "\n",
    "Vul in de variabele deel1_antwoord met 1, 2 of 3"
   ]
  },
  {
   "cell_type": "code",
   "execution_count": 10,
   "metadata": {},
   "outputs": [],
   "source": [
    "deel1_antwoord = 2"
   ]
  },
  {
   "cell_type": "markdown",
   "metadata": {},
   "source": [
    "Onderstaande variabelen kun je gebruiken om bovenstaande vraag te beantwoorden. Zorg ervoor dat de data op de juiste manier wordt voorbereid en vul de variabelen met de data zoals je geleerd hebt. Denk je dat je de variabele niet nodig hebt? Laat deze dan op None staan. Zo kunnen we zien of je echt begrijpt wat je aan het doen bent. \n",
    "\n",
    "\n",
    "| __Variabele__ | __beschrijving__ | __datatype__\n",
    "|:---|:--:|:---|\n",
    "| model_1  | Jouw gekozen model | Pandas Series |\n",
    "| fit_1 | Het model dat uit de fit komt | Pandas Dataframe |\n",
    "| uitkomst_1 | het resultaat van je algoritme  | Numpy Array |\n",
    "| score_1 | de score die je vertelt hoe goed jouw model op de data past | float |\n",
    "| scores_1  | Een lijst met betrouwbaarheid scores van jouw jouw model | Numpy Array  |\n",
    "| scores_mean_1  | De gemiddelde betrouwbaarheidsscore van jouw jouw model | float64  |\n",
    "| confusion_matrix_1  | De confusion matrix voor jouw gekozen model | Numpy Array  |\n",
    "| tp_1  | De True Positives  | int  |\n",
    "| fp_1  | De False Positives  | int  |\n",
    "| tn_1  | De True Negatives  | int  |\n",
    "| fn_1  | De False Negatives | int | \n",
    "| fpr_1 | de false positive rate (FPR) | Pandas Dataframe |\n",
    "| tpr_1 | de true positive rate (TPR) | Pandas Dataframe |"
   ]
  },
  {
   "cell_type": "code",
   "execution_count": 11,
   "metadata": {},
   "outputs": [],
   "source": [
    "fit_1 = None"
   ]
  },
  {
   "cell_type": "code",
   "execution_count": 12,
   "metadata": {},
   "outputs": [],
   "source": [
    "model_1 = GaussianNB()\n",
    "fit_1 = model_1.fit(X_train_1, y_train_1)\n",
    "\n",
    "uitkomst_1 = model_1.predict(X_test_1)\n",
    "score_1 = metrics.accuracy_score(y_test_1, uitkomst_1)"
   ]
  },
  {
   "cell_type": "code",
   "execution_count": 13,
   "metadata": {},
   "outputs": [
    {
     "data": {
      "text/plain": [
       "array([[474,   2],\n",
       "       [ 15,  28]], dtype=int64)"
      ]
     },
     "execution_count": 13,
     "metadata": {},
     "output_type": "execute_result"
    }
   ],
   "source": [
    "confusion_matrix_1 = metrics.confusion_matrix(y_test_1, uitkomst_1)\n",
    "confusion_matrix_1"
   ]
  },
  {
   "cell_type": "code",
   "execution_count": 14,
   "metadata": {},
   "outputs": [],
   "source": [
    "tn_1 = 474\n",
    "fp_1 = 2\n",
    "fn_1 = 15\n",
    "tp_1 = 28"
   ]
  },
  {
   "cell_type": "code",
   "execution_count": 15,
   "metadata": {},
   "outputs": [],
   "source": [
    "fpr_1 = fp_1 / (fp_1 + tn_1)\n",
    "tpr_1 = tp_1 / (tp_1 + fn_1)"
   ]
  },
  {
   "cell_type": "code",
   "execution_count": 16,
   "metadata": {},
   "outputs": [],
   "source": [
    "scores_1 = cross_val_score(model_1, X_train_1, y_train_1, cv = 6)\n",
    "\n",
    "scores_mean_1 = scores_1.mean()"
   ]
  },
  {
   "cell_type": "markdown",
   "metadata": {},
   "source": [
    "## 1.3. Kan jouw model de staat van een nieuwe auto voorspellen?"
   ]
  },
  {
   "cell_type": "markdown",
   "metadata": {},
   "source": [
    "Nu dat je jouw model hebt getraind en getest, kun je jouw model gebruiken om de staat van een nieuwe auto te voorspellen. Auto4all vroeg je om de staat van de onderstaande auto te voorspellen, met behulp van jouw al gemaakte machine learning model. \n"
   ]
  },
  {
   "cell_type": "markdown",
   "metadata": {},
   "source": [
    "Nu is de vraag, wat denkt jouw model van deze auto? Laten we jouw beste model gebruiken om te voorspellen of de staat goed is of niet. \n",
    "\n",
    "Hieronder alle gegevens van de auto:"
   ]
  },
  {
   "cell_type": "code",
   "execution_count": 17,
   "metadata": {},
   "outputs": [],
   "source": [
    "nieuw_auto = {'koop':0,\n",
    "            'onderhoud': 1,\n",
    "            'deuren': 4,\n",
    "            'personen': 6,\n",
    "            'kofferbak': 2,\n",
    "            'veiligheid': 2,\n",
    "            'Is_staat_goed' : 1\n",
    "           }"
   ]
  },
  {
   "cell_type": "markdown",
   "metadata": {},
   "source": [
    "Onderstaande variabelen kun je gebruiken om bovenstaande vraag te beantwoorden. Zorg ervoor dat de data op de juiste manier wordt voorbereid en vul de variabelen met de data zoals je geleerd hebt. Denk je dat je de variabele niet nodig hebt? Laat deze dan op None staan. Zo kunnen we zien of je echt begrijpt wat je aan het doen bent. \n",
    "\n",
    "\n",
    "| __Variabele__ | __beschrijving__ | __datatype__\n",
    "|:---|:--:|:---|\n",
    "| voorspelling_nieuw  | Een waarde 1 of 0  | Integer |\n",
    "| jouw_antwoord_nieuw  | Een waarde 'Goed' of 'Slecht'  | String |\n",
    "| nauwkeurigheid_nieuw | De kans dat het model gelijk heeft | float |\n",
    "| kans_staat_goed_nieuw | De berekende kans dat de staat van de auto goed is  | float |\n",
    "| kans_staat_slecht_nieuw | De berekende kans dat de staat van de auto slecht is| float |\n",
    "| confusion_matrix_nieuw  | De confusion matrix voor jouw gekozen model | Numpy Array  |\n",
    "| tn_nieuw  | De True Positives  | int  |\n",
    "| fp_nieuw  | De False Positives  | int  |\n",
    "| fn_nieuw  | De True Negatives  | int  |\n",
    "| tp_nieuw  | De False Negatives | int | \n",
    "| fpr_nieuw | de false positive rate (FPR) | Pandas Dataframe |\n",
    "| tpr_nieuw | de true positive rate (TPR) | Pandas Dataframe |"
   ]
  },
  {
   "cell_type": "code",
   "execution_count": 18,
   "metadata": {},
   "outputs": [],
   "source": [
    "nauwkeurigheid_nieuw = None\n",
    "kans_staat_goed_nieuw = None\n",
    "kans_staat_slecht_nieuw = None\n",
    "confusion_matrix_nieuw = None\n",
    "tn_nieuw = None\n",
    "fp_nieuw = None\n",
    "fn_nieuw = None\n",
    "tp_nieuw = None\n",
    "fpr_nieuw = None\n",
    "tpr_nieuw = None"
   ]
  },
  {
   "cell_type": "code",
   "execution_count": 19,
   "metadata": {},
   "outputs": [
    {
     "data": {
      "text/plain": [
       "1"
      ]
     },
     "execution_count": 19,
     "metadata": {},
     "output_type": "execute_result"
    }
   ],
   "source": [
    "nieuw_df = pd.DataFrame(nieuw_auto, index=[0])\n",
    "\n",
    "nieuw_df = nieuw_df.drop(['Is_staat_goed'], axis=1)\n",
    "nieuw_df = pd.DataFrame(scaler_1.transform(nieuw_df), columns=list(nieuw_df.columns))\n",
    "\n",
    "voorspelling_nieuw = model_1.predict(nieuw_df)[0]\n",
    "voorspelling_nieuw"
   ]
  },
  {
   "cell_type": "markdown",
   "metadata": {},
   "source": [
    "# Opdracht deel2\n",
    "## 2.1 Data inladen en voorbereiden"
   ]
  },
  {
   "cell_type": "markdown",
   "metadata": {},
   "source": [
    "Auto4all is tot nu toe erg tevreden over jouw werk! Hij wil zijn prijzen zo goed mogelijk aanpassen aan de Nederlandse markt. Hij wil dus weten wat een redelijke marktconforme prijs is voor een auto, die hij in de verkoop zet. Gelukkig kan je hem hierbij ook helpen: \n",
    "\n",
    "In dit onderdeel, ga je gebruik maken van de tweede dataset (lease_data.csv). Ga terug naar (Opdracht en data beschrijving) om de kenmerken van de data nog door te lezen.   "
   ]
  },
  {
   "cell_type": "markdown",
   "metadata": {},
   "source": [
    "Nu je het probleem snapt en als je naar de afhankelijke variabele kijkt, welke type machine learning gaat het over bij dit tweede deel van de opdracht? \n",
    " 1. Regressie\n",
    " 2. Classificatie\n",
    " 3. Clustering\n",
    "\n",
    "Vul in de variabele deel2_antwoord met 1, 2 of 3"
   ]
  },
  {
   "cell_type": "code",
   "execution_count": 20,
   "metadata": {},
   "outputs": [],
   "source": [
    "deel2_antwoord = 1"
   ]
  },
  {
   "cell_type": "markdown",
   "metadata": {},
   "source": [
    "Lees de datafile \"lease_data.csv\" in en bereid de data voor zoals je in de werkcolleges hebt geleerd. "
   ]
  },
  {
   "cell_type": "code",
   "execution_count": 21,
   "metadata": {},
   "outputs": [],
   "source": [
    "pad_naar_file_2 = \"lease_data.csv\""
   ]
  },
  {
   "cell_type": "code",
   "execution_count": 22,
   "metadata": {},
   "outputs": [],
   "source": [
    "#schrijf hier je code om de pad_naar_file_2 in te lezen\n",
    "df_orig_2 = pd.read_csv(pad_naar_file_2)"
   ]
  },
  {
   "cell_type": "code",
   "execution_count": 23,
   "metadata": {},
   "outputs": [],
   "source": [
    "# schrijf je code om een kopie van df_orig_2 in df_2 te maken\n",
    "df_2 = df_orig_2.copy()"
   ]
  },
  {
   "cell_type": "code",
   "execution_count": 24,
   "metadata": {},
   "outputs": [
    {
     "data": {
      "text/plain": [
       "auto_id                 0\n",
       "automerk                0\n",
       "carroserie              0\n",
       "verkoopprijsprijs      24\n",
       "kilometerstand         45\n",
       "versnellinsbak        434\n",
       "leeftijd_auto          28\n",
       "type_motor             29\n",
       "pk                    640\n",
       "nieuwstaat             27\n",
       "lease_bedrag         7134\n",
       "airco                   0\n",
       "dtype: int64"
      ]
     },
     "execution_count": 24,
     "metadata": {},
     "output_type": "execute_result"
    }
   ],
   "source": [
    "df_2.isnull().sum(axis = 0)"
   ]
  },
  {
   "cell_type": "markdown",
   "metadata": {},
   "source": [
    "df_2 is de dataframe die je gaat voorbereiden voor machine learning."
   ]
  },
  {
   "cell_type": "code",
   "execution_count": 25,
   "metadata": {},
   "outputs": [
    {
     "name": "stdout",
     "output_type": "stream",
     "text": [
      "<class 'pandas.core.frame.DataFrame'>\n",
      "RangeIndex: 15347 entries, 0 to 15346\n",
      "Data columns (total 12 columns):\n",
      " #   Column             Non-Null Count  Dtype  \n",
      "---  ------             --------------  -----  \n",
      " 0   auto_id            15347 non-null  int64  \n",
      " 1   automerk           15347 non-null  object \n",
      " 2   carroserie         15347 non-null  object \n",
      " 3   verkoopprijsprijs  15323 non-null  float64\n",
      " 4   kilometerstand     15302 non-null  float64\n",
      " 5   versnellinsbak     14913 non-null  object \n",
      " 6   leeftijd_auto      15319 non-null  float64\n",
      " 7   type_motor         15318 non-null  object \n",
      " 8   pk                 14707 non-null  float64\n",
      " 9   nieuwstaat         15320 non-null  object \n",
      " 10  lease_bedrag       8213 non-null   float64\n",
      " 11  airco              15347 non-null  bool   \n",
      "dtypes: bool(1), float64(5), int64(1), object(5)\n",
      "memory usage: 1.3+ MB\n"
     ]
    }
   ],
   "source": [
    "df_2.info()"
   ]
  },
  {
   "cell_type": "code",
   "execution_count": 26,
   "metadata": {},
   "outputs": [
    {
     "data": {
      "text/html": [
       "<div>\n",
       "<style scoped>\n",
       "    .dataframe tbody tr th:only-of-type {\n",
       "        vertical-align: middle;\n",
       "    }\n",
       "\n",
       "    .dataframe tbody tr th {\n",
       "        vertical-align: top;\n",
       "    }\n",
       "\n",
       "    .dataframe thead th {\n",
       "        text-align: right;\n",
       "    }\n",
       "</style>\n",
       "<table border=\"1\" class=\"dataframe\">\n",
       "  <thead>\n",
       "    <tr style=\"text-align: right;\">\n",
       "      <th></th>\n",
       "      <th>auto_id</th>\n",
       "      <th>verkoopprijsprijs</th>\n",
       "      <th>kilometerstand</th>\n",
       "      <th>leeftijd_auto</th>\n",
       "      <th>pk</th>\n",
       "      <th>lease_bedrag</th>\n",
       "    </tr>\n",
       "  </thead>\n",
       "  <tbody>\n",
       "    <tr>\n",
       "      <th>count</th>\n",
       "      <td>15347.000000</td>\n",
       "      <td>1.532300e+04</td>\n",
       "      <td>15302.000000</td>\n",
       "      <td>15319.000000</td>\n",
       "      <td>14707.000000</td>\n",
       "      <td>8213.000000</td>\n",
       "    </tr>\n",
       "    <tr>\n",
       "      <th>mean</th>\n",
       "      <td>23658.624878</td>\n",
       "      <td>3.206311e+04</td>\n",
       "      <td>88317.537315</td>\n",
       "      <td>7.453228</td>\n",
       "      <td>197.117155</td>\n",
       "      <td>523.573106</td>\n",
       "    </tr>\n",
       "    <tr>\n",
       "      <th>std</th>\n",
       "      <td>18475.054270</td>\n",
       "      <td>3.561329e+04</td>\n",
       "      <td>76203.153579</td>\n",
       "      <td>8.177183</td>\n",
       "      <td>117.645204</td>\n",
       "      <td>368.016219</td>\n",
       "    </tr>\n",
       "    <tr>\n",
       "      <th>min</th>\n",
       "      <td>4154.000000</td>\n",
       "      <td>5.000000e+02</td>\n",
       "      <td>0.000000</td>\n",
       "      <td>0.000000</td>\n",
       "      <td>1.000000</td>\n",
       "      <td>54.536972</td>\n",
       "    </tr>\n",
       "    <tr>\n",
       "      <th>25%</th>\n",
       "      <td>7990.500000</td>\n",
       "      <td>1.395000e+04</td>\n",
       "      <td>26343.250000</td>\n",
       "      <td>3.000000</td>\n",
       "      <td>122.000000</td>\n",
       "      <td>307.045131</td>\n",
       "    </tr>\n",
       "    <tr>\n",
       "      <th>50%</th>\n",
       "      <td>11827.000000</td>\n",
       "      <td>2.235000e+04</td>\n",
       "      <td>73368.000000</td>\n",
       "      <td>5.000000</td>\n",
       "      <td>156.000000</td>\n",
       "      <td>421.748374</td>\n",
       "    </tr>\n",
       "    <tr>\n",
       "      <th>75%</th>\n",
       "      <td>46983.500000</td>\n",
       "      <td>3.795000e+04</td>\n",
       "      <td>133212.500000</td>\n",
       "      <td>10.000000</td>\n",
       "      <td>225.000000</td>\n",
       "      <td>637.491281</td>\n",
       "    </tr>\n",
       "    <tr>\n",
       "      <th>max</th>\n",
       "      <td>52413.000000</td>\n",
       "      <td>1.250000e+06</td>\n",
       "      <td>827190.000000</td>\n",
       "      <td>110.000000</td>\n",
       "      <td>799.000000</td>\n",
       "      <td>10647.613438</td>\n",
       "    </tr>\n",
       "  </tbody>\n",
       "</table>\n",
       "</div>"
      ],
      "text/plain": [
       "            auto_id  verkoopprijsprijs  kilometerstand  leeftijd_auto  \\\n",
       "count  15347.000000       1.532300e+04    15302.000000   15319.000000   \n",
       "mean   23658.624878       3.206311e+04    88317.537315       7.453228   \n",
       "std    18475.054270       3.561329e+04    76203.153579       8.177183   \n",
       "min     4154.000000       5.000000e+02        0.000000       0.000000   \n",
       "25%     7990.500000       1.395000e+04    26343.250000       3.000000   \n",
       "50%    11827.000000       2.235000e+04    73368.000000       5.000000   \n",
       "75%    46983.500000       3.795000e+04   133212.500000      10.000000   \n",
       "max    52413.000000       1.250000e+06   827190.000000     110.000000   \n",
       "\n",
       "                 pk  lease_bedrag  \n",
       "count  14707.000000   8213.000000  \n",
       "mean     197.117155    523.573106  \n",
       "std      117.645204    368.016219  \n",
       "min        1.000000     54.536972  \n",
       "25%      122.000000    307.045131  \n",
       "50%      156.000000    421.748374  \n",
       "75%      225.000000    637.491281  \n",
       "max      799.000000  10647.613438  "
      ]
     },
     "execution_count": 26,
     "metadata": {},
     "output_type": "execute_result"
    }
   ],
   "source": [
    "df_2.describe()"
   ]
  },
  {
   "cell_type": "code",
   "execution_count": 27,
   "metadata": {},
   "outputs": [
    {
     "data": {
      "text/html": [
       "<div>\n",
       "<style scoped>\n",
       "    .dataframe tbody tr th:only-of-type {\n",
       "        vertical-align: middle;\n",
       "    }\n",
       "\n",
       "    .dataframe tbody tr th {\n",
       "        vertical-align: top;\n",
       "    }\n",
       "\n",
       "    .dataframe thead th {\n",
       "        text-align: right;\n",
       "    }\n",
       "</style>\n",
       "<table border=\"1\" class=\"dataframe\">\n",
       "  <thead>\n",
       "    <tr style=\"text-align: right;\">\n",
       "      <th></th>\n",
       "      <th>auto_id</th>\n",
       "      <th>automerk</th>\n",
       "      <th>carroserie</th>\n",
       "      <th>verkoopprijsprijs</th>\n",
       "      <th>kilometerstand</th>\n",
       "      <th>versnellinsbak</th>\n",
       "      <th>leeftijd_auto</th>\n",
       "      <th>type_motor</th>\n",
       "      <th>pk</th>\n",
       "      <th>nieuwstaat</th>\n",
       "      <th>lease_bedrag</th>\n",
       "      <th>airco</th>\n",
       "    </tr>\n",
       "  </thead>\n",
       "  <tbody>\n",
       "    <tr>\n",
       "      <th>0</th>\n",
       "      <td>4154</td>\n",
       "      <td>Volgswagen</td>\n",
       "      <td>Cabrio</td>\n",
       "      <td>23945.0</td>\n",
       "      <td>12388.0</td>\n",
       "      <td>Handgeschakeld</td>\n",
       "      <td>11.0</td>\n",
       "      <td>Benzine</td>\n",
       "      <td>184.0</td>\n",
       "      <td>Gebruikt</td>\n",
       "      <td>315.899324</td>\n",
       "      <td>True</td>\n",
       "    </tr>\n",
       "    <tr>\n",
       "      <th>1</th>\n",
       "      <td>4155</td>\n",
       "      <td>Volgswagen</td>\n",
       "      <td>Cabrio</td>\n",
       "      <td>49750.0</td>\n",
       "      <td>43950.0</td>\n",
       "      <td>Automatisch</td>\n",
       "      <td>4.0</td>\n",
       "      <td>Benzine</td>\n",
       "      <td>184.0</td>\n",
       "      <td>Gebruikt</td>\n",
       "      <td>577.259982</td>\n",
       "      <td>False</td>\n",
       "    </tr>\n",
       "    <tr>\n",
       "      <th>2</th>\n",
       "      <td>4156</td>\n",
       "      <td>Volgswagen</td>\n",
       "      <td>Cabrio</td>\n",
       "      <td>14950.0</td>\n",
       "      <td>82125.0</td>\n",
       "      <td>Automatisch</td>\n",
       "      <td>14.0</td>\n",
       "      <td>Benzine</td>\n",
       "      <td>184.0</td>\n",
       "      <td>Gebruikt</td>\n",
       "      <td>233.758131</td>\n",
       "      <td>True</td>\n",
       "    </tr>\n",
       "    <tr>\n",
       "      <th>3</th>\n",
       "      <td>4157</td>\n",
       "      <td>Volgswagen</td>\n",
       "      <td>Cabrio</td>\n",
       "      <td>24500.0</td>\n",
       "      <td>103000.0</td>\n",
       "      <td>Automatisch</td>\n",
       "      <td>19.0</td>\n",
       "      <td>Benzine</td>\n",
       "      <td>245.0</td>\n",
       "      <td>Gebruikt</td>\n",
       "      <td>433.101885</td>\n",
       "      <td>True</td>\n",
       "    </tr>\n",
       "    <tr>\n",
       "      <th>4</th>\n",
       "      <td>4158</td>\n",
       "      <td>Volgswagen</td>\n",
       "      <td>Cabrio</td>\n",
       "      <td>34700.0</td>\n",
       "      <td>45739.0</td>\n",
       "      <td>Automatisch</td>\n",
       "      <td>5.0</td>\n",
       "      <td>Benzine</td>\n",
       "      <td>156.0</td>\n",
       "      <td>Gebruikt</td>\n",
       "      <td>440.903384</td>\n",
       "      <td>False</td>\n",
       "    </tr>\n",
       "  </tbody>\n",
       "</table>\n",
       "</div>"
      ],
      "text/plain": [
       "   auto_id    automerk carroserie  verkoopprijsprijs  kilometerstand  \\\n",
       "0     4154  Volgswagen     Cabrio            23945.0         12388.0   \n",
       "1     4155  Volgswagen     Cabrio            49750.0         43950.0   \n",
       "2     4156  Volgswagen     Cabrio            14950.0         82125.0   \n",
       "3     4157  Volgswagen     Cabrio            24500.0        103000.0   \n",
       "4     4158  Volgswagen     Cabrio            34700.0         45739.0   \n",
       "\n",
       "   versnellinsbak  leeftijd_auto type_motor     pk nieuwstaat  lease_bedrag  \\\n",
       "0  Handgeschakeld           11.0    Benzine  184.0   Gebruikt    315.899324   \n",
       "1     Automatisch            4.0    Benzine  184.0   Gebruikt    577.259982   \n",
       "2     Automatisch           14.0    Benzine  184.0   Gebruikt    233.758131   \n",
       "3     Automatisch           19.0    Benzine  245.0   Gebruikt    433.101885   \n",
       "4     Automatisch            5.0    Benzine  156.0   Gebruikt    440.903384   \n",
       "\n",
       "   airco  \n",
       "0   True  \n",
       "1  False  \n",
       "2   True  \n",
       "3   True  \n",
       "4  False  "
      ]
     },
     "execution_count": 27,
     "metadata": {},
     "output_type": "execute_result"
    }
   ],
   "source": [
    "df_2.head(5)"
   ]
  },
  {
   "cell_type": "code",
   "execution_count": 28,
   "metadata": {},
   "outputs": [],
   "source": [
    "def data_voorbereiden(dataframe):\n",
    "    set_staat = {'Gebruikt':0,'Oldtimer':1, 'Nieuw':2, 'Demo':3, 'Nieuw en op kenteken':4}\n",
    "    dataframe['nieuwstaat'] = dataframe['nieuwstaat'].map(set_staat)\n",
    "\n",
    "    dataframe['airco'] = dataframe['airco'].astype(int)\n",
    "    \n",
    "    set_motor = {'Benzine':0,'LPG':1, 'Diesel':2, 'Elektrisch':3, 'CNG':4, 'Ethanol':5}\n",
    "    dataframe['type_motor'] = dataframe['type_motor'].map(set_motor)\n",
    "    \n",
    "    set_versnelling = {'Handgeschakeld':0,'Automatisch':1, 'Half/Semi-automaat':2}\n",
    "    dataframe['versnellinsbak'] = dataframe['versnellinsbak'].map(set_versnelling)\n",
    "    \n",
    "    \n",
    "    set_carro = {'Cabrio':0,'Coupé':1, 'SUV / ofroader':2, 'sedan': 3, 'StationWagon': 4,\n",
    "                     'Bedrijfswagen': 5, 'MPV': 6, 'Overig': 7, 'Hatchback': 8}\n",
    "    dataframe['carroserie'] = dataframe['carroserie'].map(set_carro)\n",
    "    \n",
    "    \n",
    "    set_merk = {'Volgswagen':0,'Volvo':1, 'Polo':2, 'Suzuki':3, 'Fiat':4, 'Renault':5}\n",
    "    dataframe['automerk'] = dataframe['automerk'].map(set_merk)\n",
    "    \n",
    "    return dataframe\n"
   ]
  },
  {
   "cell_type": "code",
   "execution_count": 29,
   "metadata": {},
   "outputs": [],
   "source": [
    "def vervang_nan(dataframe):    \n",
    "    \n",
    "    dataframe['leeftijd_auto'].fillna(dataframe['leeftijd_auto'].median(), inplace=True)\n",
    "    \n",
    "    dataframe['versnellinsbak'].fillna(dataframe['versnellinsbak'].mode()[0], inplace=True)\n",
    "    dataframe['type_motor'].fillna(dataframe['type_motor'].mode()[0], inplace=True)\n",
    "    dataframe['nieuwstaat'].fillna(dataframe['nieuwstaat'].mode()[0], inplace=True)\n",
    "    \n",
    "    dataframe['verkoopprijsprijs'].fillna(dataframe['verkoopprijsprijs'].median(), inplace=True)\n",
    "    dataframe['kilometerstand'].fillna(dataframe['kilometerstand'].median(), inplace=True)\n",
    "    dataframe['pk'].fillna(dataframe['pk'].mean(), inplace=True)\n",
    "    \n",
    "    return dataframe"
   ]
  },
  {
   "cell_type": "code",
   "execution_count": 30,
   "metadata": {},
   "outputs": [],
   "source": [
    "df_2 = data_voorbereiden(df_2)\n",
    "df_2 = vervang_nan(df_2)"
   ]
  },
  {
   "cell_type": "code",
   "execution_count": 31,
   "metadata": {},
   "outputs": [
    {
     "data": {
      "text/plain": [
       "auto_id                 0\n",
       "automerk                0\n",
       "carroserie              0\n",
       "verkoopprijsprijs       0\n",
       "kilometerstand          0\n",
       "versnellinsbak          0\n",
       "leeftijd_auto           0\n",
       "type_motor              0\n",
       "pk                      0\n",
       "nieuwstaat              0\n",
       "lease_bedrag         7134\n",
       "airco                   0\n",
       "dtype: int64"
      ]
     },
     "execution_count": 31,
     "metadata": {},
     "output_type": "execute_result"
    }
   ],
   "source": [
    "df_2.isnull().sum(axis = 0)"
   ]
  },
  {
   "cell_type": "code",
   "execution_count": 32,
   "metadata": {},
   "outputs": [
    {
     "data": {
      "text/html": [
       "<div>\n",
       "<style scoped>\n",
       "    .dataframe tbody tr th:only-of-type {\n",
       "        vertical-align: middle;\n",
       "    }\n",
       "\n",
       "    .dataframe tbody tr th {\n",
       "        vertical-align: top;\n",
       "    }\n",
       "\n",
       "    .dataframe thead th {\n",
       "        text-align: right;\n",
       "    }\n",
       "</style>\n",
       "<table border=\"1\" class=\"dataframe\">\n",
       "  <thead>\n",
       "    <tr style=\"text-align: right;\">\n",
       "      <th></th>\n",
       "      <th>auto_id</th>\n",
       "      <th>automerk</th>\n",
       "      <th>carroserie</th>\n",
       "      <th>verkoopprijsprijs</th>\n",
       "      <th>kilometerstand</th>\n",
       "      <th>versnellinsbak</th>\n",
       "      <th>leeftijd_auto</th>\n",
       "      <th>type_motor</th>\n",
       "      <th>pk</th>\n",
       "      <th>nieuwstaat</th>\n",
       "      <th>lease_bedrag</th>\n",
       "      <th>airco</th>\n",
       "    </tr>\n",
       "  </thead>\n",
       "  <tbody>\n",
       "    <tr>\n",
       "      <th>0</th>\n",
       "      <td>4154</td>\n",
       "      <td>0</td>\n",
       "      <td>0</td>\n",
       "      <td>23945.0</td>\n",
       "      <td>12388.0</td>\n",
       "      <td>0.0</td>\n",
       "      <td>11.0</td>\n",
       "      <td>0.0</td>\n",
       "      <td>184.0</td>\n",
       "      <td>0.0</td>\n",
       "      <td>315.899324</td>\n",
       "      <td>1</td>\n",
       "    </tr>\n",
       "    <tr>\n",
       "      <th>1</th>\n",
       "      <td>4155</td>\n",
       "      <td>0</td>\n",
       "      <td>0</td>\n",
       "      <td>49750.0</td>\n",
       "      <td>43950.0</td>\n",
       "      <td>1.0</td>\n",
       "      <td>4.0</td>\n",
       "      <td>0.0</td>\n",
       "      <td>184.0</td>\n",
       "      <td>0.0</td>\n",
       "      <td>577.259982</td>\n",
       "      <td>0</td>\n",
       "    </tr>\n",
       "    <tr>\n",
       "      <th>2</th>\n",
       "      <td>4156</td>\n",
       "      <td>0</td>\n",
       "      <td>0</td>\n",
       "      <td>14950.0</td>\n",
       "      <td>82125.0</td>\n",
       "      <td>1.0</td>\n",
       "      <td>14.0</td>\n",
       "      <td>0.0</td>\n",
       "      <td>184.0</td>\n",
       "      <td>0.0</td>\n",
       "      <td>233.758131</td>\n",
       "      <td>1</td>\n",
       "    </tr>\n",
       "    <tr>\n",
       "      <th>3</th>\n",
       "      <td>4157</td>\n",
       "      <td>0</td>\n",
       "      <td>0</td>\n",
       "      <td>24500.0</td>\n",
       "      <td>103000.0</td>\n",
       "      <td>1.0</td>\n",
       "      <td>19.0</td>\n",
       "      <td>0.0</td>\n",
       "      <td>245.0</td>\n",
       "      <td>0.0</td>\n",
       "      <td>433.101885</td>\n",
       "      <td>1</td>\n",
       "    </tr>\n",
       "    <tr>\n",
       "      <th>4</th>\n",
       "      <td>4158</td>\n",
       "      <td>0</td>\n",
       "      <td>0</td>\n",
       "      <td>34700.0</td>\n",
       "      <td>45739.0</td>\n",
       "      <td>1.0</td>\n",
       "      <td>5.0</td>\n",
       "      <td>0.0</td>\n",
       "      <td>156.0</td>\n",
       "      <td>0.0</td>\n",
       "      <td>440.903384</td>\n",
       "      <td>0</td>\n",
       "    </tr>\n",
       "  </tbody>\n",
       "</table>\n",
       "</div>"
      ],
      "text/plain": [
       "   auto_id  automerk  carroserie  verkoopprijsprijs  kilometerstand  \\\n",
       "0     4154         0           0            23945.0         12388.0   \n",
       "1     4155         0           0            49750.0         43950.0   \n",
       "2     4156         0           0            14950.0         82125.0   \n",
       "3     4157         0           0            24500.0        103000.0   \n",
       "4     4158         0           0            34700.0         45739.0   \n",
       "\n",
       "   versnellinsbak  leeftijd_auto  type_motor     pk  nieuwstaat  lease_bedrag  \\\n",
       "0             0.0           11.0         0.0  184.0         0.0    315.899324   \n",
       "1             1.0            4.0         0.0  184.0         0.0    577.259982   \n",
       "2             1.0           14.0         0.0  184.0         0.0    233.758131   \n",
       "3             1.0           19.0         0.0  245.0         0.0    433.101885   \n",
       "4             1.0            5.0         0.0  156.0         0.0    440.903384   \n",
       "\n",
       "   airco  \n",
       "0      1  \n",
       "1      0  \n",
       "2      1  \n",
       "3      1  \n",
       "4      0  "
      ]
     },
     "execution_count": 32,
     "metadata": {},
     "output_type": "execute_result"
    }
   ],
   "source": [
    "df_2.head(5)"
   ]
  },
  {
   "cell_type": "code",
   "execution_count": 33,
   "metadata": {},
   "outputs": [
    {
     "data": {
      "image/png": "[encoded data removed]",
      "text/plain": [
       "<Figure size 640x480 with 2 Axes>"
      ]
     },
     "metadata": {},
     "output_type": "display_data"
    }
   ],
   "source": [
    "sns.heatmap(df_2.corr(), annot = True, vmin=-1, vmax=1, center= 0, cmap= 'coolwarm', fmt='.1f')\n",
    "plt.show()"
   ]
  },
  {
   "cell_type": "code",
   "execution_count": 34,
   "metadata": {},
   "outputs": [],
   "source": [
    "def verwijder_kolommen(dataframe):\n",
    "    dataframe.drop(['lease_bedrag', 'auto_id'], axis=1, inplace=True)\n",
    "    \n",
    "    return dataframe\n"
   ]
  },
  {
   "cell_type": "code",
   "execution_count": 35,
   "metadata": {},
   "outputs": [],
   "source": [
    "df_2 = verwijder_kolommen(df_2)"
   ]
  },
  {
   "cell_type": "markdown",
   "metadata": {},
   "source": [
    "Maak nu op basis van de eigenschappen van de auto's een model om te voorspellen wat de meest gebruikelijke verkoopprijs is voor een bepaald type auto.\n",
    "\n",
    "Onderstaande variabelen kun je gebruiken om bovenstaande vraag te beantwoorden. Zorg ervoor dat de data op de juiste manier wordt voorbereid en vul de variabelen in met de data zoals je geleerd hebt.  \n",
    "\n",
    "Denk je dat je de variabele niet nodig hebt? Laat deze dan op None staan. Zo kunnen we zien of je echt begrijpt wat je aan het doen bent. \n",
    "\n",
    "De variabelen die je kunt vullen met zinvolle data voor dit probleem zijn:\n",
    "\n",
    "| __Variabele__ | __beschrijving__ | __datatype__\n",
    "|:---|:--:|:---|\n",
    "| scaler_2 | de StandardScaler scaler object | sklearn StandardScaler |\n",
    "| X_2 | de onafhankelijke variabelen van de gehele dataset | Pandas Dataframe |\n",
    "| y_2 | de afhankelijke variabelen van de gehele dataset | Pandas Series |\n",
    "| X_train_2 | de onafhankelijke variabelen van de trainingsset | Pandas Dataframe |\n",
    "| y_train_2 | de afhankelijke variabelen van de trainingsset | Pandas Series |\n",
    "| X_test_2 | de onafhankelijke variabelen van de testset | Pandas Dataframe |\n",
    "| y_test_2 | de afhankelijke variabelen van de testset | Pandas Series |\n",
    "| model_2  | Jouw gekozen machine learning model | SKLearn model |\n",
    "| fit_2 | Het model dat uit de fit komt | SKLearn model |\n",
    "| uitkomst_2 | het resultaat van je machine learning algoritme | Numpy Array |\n",
    "| score_2 | de score die je vertelt hoe goed jouw model op de data past | float |\n",
    "\n"
   ]
  },
  {
   "cell_type": "code",
   "execution_count": 36,
   "metadata": {},
   "outputs": [],
   "source": [
    "scaler_2 = None"
   ]
  },
  {
   "cell_type": "code",
   "execution_count": 37,
   "metadata": {},
   "outputs": [],
   "source": [
    "y_2 = df_2['verkoopprijsprijs']\n",
    "X_2 = df_2.drop(['verkoopprijsprijs'], axis=1)"
   ]
  },
  {
   "cell_type": "code",
   "execution_count": 38,
   "metadata": {},
   "outputs": [
    {
     "data": {
      "image/png": "[encoded data removed]",
      "text/plain": [
       "<Figure size 640x480 with 2 Axes>"
      ]
     },
     "metadata": {},
     "output_type": "display_data"
    }
   ],
   "source": [
    "correlation = pd.DataFrame(X_2.corrwith(y_2),columns=[\"verkoopprijsprijs\"]).sort_values(by='verkoopprijsprijs', ascending=False)\n",
    "sns.heatmap(correlation, vmin=-1, vmax=1, annot=True, cmap='BrBG')\n",
    "plt.show()"
   ]
  },
  {
   "cell_type": "code",
   "execution_count": 39,
   "metadata": {},
   "outputs": [],
   "source": [
    "X_train_2, X_test_2, y_train_2, y_test_2 = train_test_split(X_2, y_2, test_size=0.3, random_state=42)"
   ]
  },
  {
   "cell_type": "code",
   "execution_count": 40,
   "metadata": {},
   "outputs": [],
   "source": [
    "model_2 = LinearRegression()\n",
    "fit_2 = model_2.fit(X_train_2, y_train_2)"
   ]
  },
  {
   "cell_type": "code",
   "execution_count": 41,
   "metadata": {},
   "outputs": [],
   "source": [
    "uitkomst_2 = fit_2.predict(X_test_2)"
   ]
  },
  {
   "cell_type": "code",
   "execution_count": 42,
   "metadata": {
    "scrolled": true
   },
   "outputs": [
    {
     "data": {
      "text/plain": [
       "693511132.849176"
      ]
     },
     "execution_count": 42,
     "metadata": {},
     "output_type": "execute_result"
    }
   ],
   "source": [
    "score_2 = metrics.mean_squared_error(y_test_2, uitkomst_2)\n",
    "score_2"
   ]
  },
  {
   "cell_type": "markdown",
   "metadata": {},
   "source": [
    "# 2.2 Voorspel de verkoopprijs van een nieuwe auto\n"
   ]
  },
  {
   "cell_type": "markdown",
   "metadata": {},
   "source": [
    "Laten we het algoritme op nieuwe auto's testen om te kijken of het klopt. Bepaal de prijs van de volgende auto:"
   ]
  },
  {
   "cell_type": "code",
   "execution_count": 43,
   "metadata": {},
   "outputs": [
    {
     "data": {
      "text/html": [
       "<div>\n",
       "<style scoped>\n",
       "    .dataframe tbody tr th:only-of-type {\n",
       "        vertical-align: middle;\n",
       "    }\n",
       "\n",
       "    .dataframe tbody tr th {\n",
       "        vertical-align: top;\n",
       "    }\n",
       "\n",
       "    .dataframe thead th {\n",
       "        text-align: right;\n",
       "    }\n",
       "</style>\n",
       "<table border=\"1\" class=\"dataframe\">\n",
       "  <thead>\n",
       "    <tr style=\"text-align: right;\">\n",
       "      <th></th>\n",
       "      <th>automerk</th>\n",
       "      <th>carroserie</th>\n",
       "      <th>kilometerstand</th>\n",
       "      <th>versnellinsbak</th>\n",
       "      <th>leeftijd_auto</th>\n",
       "      <th>type_motor</th>\n",
       "      <th>pk</th>\n",
       "      <th>nieuwstaat</th>\n",
       "      <th>airco</th>\n",
       "    </tr>\n",
       "  </thead>\n",
       "  <tbody>\n",
       "    <tr>\n",
       "      <th>0</th>\n",
       "      <td>1</td>\n",
       "      <td>8</td>\n",
       "      <td>70.0</td>\n",
       "      <td>1</td>\n",
       "      <td>1.0</td>\n",
       "      <td>2</td>\n",
       "      <td>131.0</td>\n",
       "      <td>4</td>\n",
       "      <td>1</td>\n",
       "    </tr>\n",
       "  </tbody>\n",
       "</table>\n",
       "</div>"
      ],
      "text/plain": [
       "   automerk  carroserie  kilometerstand  versnellinsbak  leeftijd_auto  \\\n",
       "0         1           8            70.0               1            1.0   \n",
       "\n",
       "   type_motor     pk  nieuwstaat  airco  \n",
       "0           2  131.0           4      1  "
      ]
     },
     "execution_count": 43,
     "metadata": {},
     "output_type": "execute_result"
    }
   ],
   "source": [
    "nieuwe_auto = {'auto_id': 1832,\n",
    "            'automerk': 'Volvo',\n",
    "            'carroserie': 'Hatchback',\n",
    "            'kilometerstand': 70.0,\n",
    "            'versnellinsbak': 'Automatisch',\n",
    "            'leeftijd_auto': 1.0, \n",
    "            'type_motor': 'Diesel',\n",
    "            'pk': 131.0,\n",
    "            'nieuwstaat': 'Nieuw en op kenteken',\n",
    "            'lease_bedrag': 720.35,\n",
    "            'airco': True\n",
    "           }\n",
    "df_jij = pd.DataFrame(nieuwe_auto, index=[0])\n",
    "\n",
    "df_jij = data_voorbereiden(df_jij)\n",
    "df_jij = verwijder_kolommen(df_jij)\n",
    "\n",
    "\n",
    "\n",
    "#print jouw data zodat je kunt zien of het klopt:\n",
    "df_jij.head()"
   ]
  },
  {
   "cell_type": "code",
   "execution_count": 44,
   "metadata": {},
   "outputs": [
    {
     "data": {
      "text/plain": [
       "48251.95144283428"
      ]
     },
     "execution_count": 44,
     "metadata": {},
     "output_type": "execute_result"
    }
   ],
   "source": [
    "voorspelling_jij = fit_2.predict(df_jij)[0]\n",
    "voorspelling_jij"
   ]
  },
  {
   "cell_type": "markdown",
   "metadata": {},
   "source": [
    "\n",
    "### Veel succes!\n",
    "\n",
    "Chaimae, Herman, Mischa en Mick "
   ]
  }
 ],
 "metadata": {
  "kernelspec": {
   "display_name": "Python 3 (ipykernel)",
   "language": "python",
   "name": "python3"
  },
  "language_info": {
   "codemirror_mode": {
    "name": "ipython",
    "version": 3
   },
   "file_extension": ".py",
   "mimetype": "text/x-python",
   "name": "python",
   "nbconvert_exporter": "python",
   "pygments_lexer": "ipython3",
   "version": "3.9.13"
  }
 },
 "nbformat": 4,
 "nbformat_minor": 4
}
